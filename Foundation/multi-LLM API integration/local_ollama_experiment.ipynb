{
 "cells": [
  {
   "cell_type": "code",
   "execution_count": 1,
   "id": "b3d50ae9",
   "metadata": {},
   "outputs": [
    {
     "name": "stderr",
     "output_type": "stream",
     "text": [
      "\u001b[?2026h\u001b[?25l\u001b[1Gpulling manifest ⠙ \u001b[K\u001b[?25h\u001b[?2026l\u001b[?2026h\u001b[?25l\u001b[1Gpulling manifest ⠙ \u001b[K\u001b[?25h\u001b[?2026l\u001b[?2026h\u001b[?25l\u001b[1Gpulling manifest ⠸ \u001b[K\u001b[?25h\u001b[?2026l\u001b[?2026h\u001b[?25l\u001b[1Gpulling manifest ⠸ \u001b[K\u001b[?25h\u001b[?2026l\u001b[?2026h\u001b[?25l\u001b[1Gpulling manifest ⠼ \u001b[K\u001b[?25h\u001b[?2026l\u001b[?2026h\u001b[?25l\u001b[1Gpulling manifest ⠴ \u001b[K\u001b[?25h\u001b[?2026l\u001b[?2026h\u001b[?25l\u001b[1Gpulling manifest ⠦ \u001b[K\u001b[?25h\u001b[?2026l\u001b[?2026h\u001b[?25l\u001b[1Gpulling manifest ⠧ \u001b[K\u001b[?25h\u001b[?2026l\u001b[?2026h\u001b[?25l\u001b[1Gpulling manifest ⠇ \u001b[K\u001b[?25h\u001b[?2026l\u001b[?2026h\u001b[?25l\u001b[1Gpulling manifest ⠏ \u001b[K\u001b[?25h\u001b[?2026l\u001b[?2026h\u001b[?25l\u001b[1Gpulling manifest ⠋ \u001b[K\u001b[?25h\u001b[?2026l\u001b[?2026h\u001b[?25l\u001b[1Gpulling manifest ⠙ \u001b[K\u001b[?25h\u001b[?2026l\u001b[?2026h\u001b[?25l\u001b[1Gpulling manifest ⠹ \u001b[K\u001b[?25h\u001b[?2026l\u001b[?2026h\u001b[?25l\u001b[1Gpulling manifest ⠸ \u001b[K\u001b[?25h\u001b[?2026l\u001b[?2026h\u001b[?25l\u001b[1Gpulling manifest ⠴ \u001b[K\u001b[?25h\u001b[?2026l\u001b[?2026h\u001b[?25l\u001b[1Gpulling manifest ⠴ \u001b[K\u001b[?25h\u001b[?2026l\u001b[?2026h\u001b[?25l\u001b[1Gpulling manifest ⠦ \u001b[K\u001b[?25h\u001b[?2026l\u001b[?2026h\u001b[?25l\u001b[1Gpulling manifest ⠧ \u001b[K\u001b[?25h\u001b[?2026l\u001b[?2026h\u001b[?25l\u001b[1Gpulling manifest ⠇ \u001b[K\u001b[?25h\u001b[?2026l\u001b[?2026h\u001b[?25l\u001b[1Gpulling manifest ⠏ \u001b[K\u001b[?25h\u001b[?2026l\u001b[?2026h\u001b[?25l\u001b[1Gpulling manifest ⠋ \u001b[K\u001b[?25h\u001b[?2026l\u001b[?2026h\u001b[?25l\u001b[1Gpulling manifest ⠙ \u001b[K\u001b[?25h\u001b[?2026l\u001b[?2026h\u001b[?25l\u001b[1Gpulling manifest ⠹ \u001b[K\u001b[?25h\u001b[?2026l\u001b[?2026h\u001b[?25l\u001b[1Gpulling manifest ⠸ \u001b[K\u001b[?25h\u001b[?2026l\u001b[?2026h\u001b[?25l\u001b[1Gpulling manifest ⠼ \u001b[K\u001b[?25h\u001b[?2026l\u001b[?2026h\u001b[?25l\u001b[1Gpulling manifest ⠴ \u001b[K\u001b[?25h\u001b[?2026l\u001b[?2026h\u001b[?25l\u001b[1Gpulling manifest ⠦ \u001b[K\u001b[?25h\u001b[?2026l\u001b[?2026h\u001b[?25l\u001b[1Gpulling manifest ⠧ \u001b[K\u001b[?25h\u001b[?2026l\u001b[?2026h\u001b[?25l\u001b[1Gpulling manifest ⠇ \u001b[K\u001b[?25h\u001b[?2026l\u001b[?2026h\u001b[?25l\u001b[1Gpulling manifest \u001b[K\n",
      "pulling dde5aa3fc5ff: 100% ▕██████████████████▏ 2.0 GB                         \u001b[K\n",
      "pulling 966de95ca8a6: 100% ▕██████████████████▏ 1.4 KB                         \u001b[K\n",
      "pulling fcc5a6bec9da: 100% ▕██████████████████▏ 7.7 KB                         \u001b[K\n",
      "pulling a70ff7e570d9: 100% ▕██████████████████▏ 6.0 KB                         \u001b[K\n",
      "pulling 56bb8bd477a5: 100% ▕██████████████████▏   96 B                         \u001b[K\n",
      "pulling 34bb5ab01051: 100% ▕██████████████████▏  561 B                         \u001b[K\n",
      "verifying sha256 digest \u001b[K\n",
      "writing manifest \u001b[K\n",
      "success \u001b[K\u001b[?25h\u001b[?2026l\n"
     ]
    }
   ],
   "source": [
    "!ollama pull llama3.2"
   ]
  },
  {
   "cell_type": "code",
   "execution_count": 3,
   "id": "bee1b602",
   "metadata": {},
   "outputs": [
    {
     "data": {
      "text/markdown": [
       "A philosophical historian living in Greece during the 5th century BCE believes that the human soul is divine and immortal but also changeable and tied to individual experiences. What historical figure from ancient Greece do they believe to be an embodiment of this philosophy, and how would they argue for their beliefs?"
      ],
      "text/plain": [
       "<IPython.core.display.Markdown object>"
      ]
     },
     "metadata": {},
     "output_type": "display_data"
    }
   ],
   "source": [
    "import os\n",
    "import json\n",
    "from openai import OpenAI\n",
    "from IPython.display import Markdown, display\n",
    "\n",
    "ollama = OpenAI(base_url='http://localhost:11434/v1', api_key =\"ollama\")\n",
    "\n",
    "model_name='llama3.2'\n",
    "\n",
    "request = \"Please come up with a challenging, nuanced question that I can ask a number of LLMs to evaluate their intelligence. Answer only with the question, no explanations.\"\n",
    "\n",
    "messages = [{\n",
    "    \"role\": \"user\",\n",
    "    \"content\": request\n",
    "}]\n",
    "\n",
    "response = ollama.chat.completions.create(\n",
    "    model=model_name,\n",
    "    messages = messages\n",
    ")\n",
    "\n",
    "question = response.choices[0].message.content\n",
    "display(Markdown(question))"
   ]
  },
  {
   "cell_type": "code",
   "execution_count": 5,
   "id": "4dd3d86f",
   "metadata": {},
   "outputs": [
    {
     "data": {
      "text/markdown": [
       "The philosophical historian, named Sophos, has spent years studying the works of various ancient Greek philosophers, and they believe that Socrates embodies the concept of a divine, immutable soul. However, in order to illustrate their philosophy further, Sophos draws parallels with another figure - Heraclitus.\n",
       "\n",
       "According to Sophos, Heraclitus' philosophical ideas on the fluidity of life and the unity of opposites aligns with the idea of an immortal but changeable soul. They would argue that Heraclitus, despite not being a Platonic idealist like Socrates, also believed in the concept of a dynamic soul that is constantly interacting with its surroundings.\n",
       "\n",
       "Sophos would say:\n",
       "\n",
       "\"Heraclitus saw the world as a single, undivided whole, where opposites are ultimately reconciled. He believed in the eternal return of all things and that change was an illusion. This, to me, suggests that Heraclitus' soul is not fixed but instead flows like the river of life itself - adapting to every moment, interacting with the world around it.\n",
       "\n",
       "\"In this view, the soul is an organic manifestation of the eternal unity of Being, which cannot be fully captured by external appearances. It must continually change and transform in order to stay true to its fundamental nature. This dynamic nature speaks to Heraclitus' radical cosmology where every being embodies both ' becoming' (e.g., water as fire) and 'being,' (as an element), this concept can be very much seen as part of a person's \"soul- being\" itself.\n",
       "\n",
       "\"This makes me want to go back to Socrates, the most authentic embodiment of our philosophy on immortal and changeable soul; his understanding was that \"you have your own soul but do not know what it is.\" He believed in questioning and inquiry – an attempt to see one’s place within existence. The soul as something greater or more refined cannot be found when examining this process of \"looking inside yourself\".\n",
       "\n",
       "\"Socrates shows us the true meaning of a divine being - we see it in those who seek understanding with wisdom guiding their thoughts, Socrates teaches that our souls are made up of reason and wisdom.\n",
       "\n",
       "\"So here is the cradle for all these aspects: one’s ability to use reason.\""
      ],
      "text/plain": [
       "<IPython.core.display.Markdown object>"
      ]
     },
     "metadata": {},
     "output_type": "display_data"
    }
   ],
   "source": [
    "question_answer = [{\n",
    "    \"role\": \"user\",\n",
    "    \"content\": question\n",
    "}]\n",
    "\n",
    "response = ollama.chat.completions.create(\n",
    "    model=model_name,\n",
    "    messages = question_answer\n",
    ")\n",
    "\n",
    "answer = response.choices[0].message.content\n",
    "display(Markdown(answer))"
   ]
  }
 ],
 "metadata": {
  "kernelspec": {
   "display_name": "agents",
   "language": "python",
   "name": "python3"
  },
  "language_info": {
   "codemirror_mode": {
    "name": "ipython",
    "version": 3
   },
   "file_extension": ".py",
   "mimetype": "text/x-python",
   "name": "python",
   "nbconvert_exporter": "python",
   "pygments_lexer": "ipython3",
   "version": "3.12.6"
  }
 },
 "nbformat": 4,
 "nbformat_minor": 5
}
