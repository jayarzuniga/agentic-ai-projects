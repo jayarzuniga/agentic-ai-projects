{
 "cells": [
  {
   "cell_type": "code",
   "execution_count": 73,
   "id": "979b5c1b",
   "metadata": {},
   "outputs": [
    {
     "name": "stderr",
     "output_type": "stream",
     "text": [
      "\u001b[?2026h\u001b[?25l\u001b[1Gpulling manifest ⠋ \u001b[K\u001b[?25h\u001b[?2026l\u001b[?2026h\u001b[?25l\u001b[1Gpulling manifest ⠙ \u001b[K\u001b[?25h\u001b[?2026l\u001b[?2026h\u001b[?25l\u001b[1Gpulling manifest ⠹ \u001b[K\u001b[?25h\u001b[?2026l\u001b[?2026h\u001b[?25l\u001b[1Gpulling manifest ⠸ \u001b[K\u001b[?25h\u001b[?2026l\u001b[?2026h\u001b[?25l\u001b[1Gpulling manifest ⠼ \u001b[K\u001b[?25h\u001b[?2026l\u001b[?2026h\u001b[?25l\u001b[1Gpulling manifest ⠴ \u001b[K\u001b[?25h\u001b[?2026l\u001b[?2026h\u001b[?25l\u001b[1Gpulling manifest ⠦ \u001b[K\u001b[?25h\u001b[?2026l\u001b[?2026h\u001b[?25l\u001b[1Gpulling manifest ⠧ \u001b[K\u001b[?25h\u001b[?2026l\u001b[?2026h\u001b[?25l\u001b[1Gpulling manifest ⠇ \u001b[K\u001b[?25h\u001b[?2026l\u001b[?2026h\u001b[?25l\u001b[1Gpulling manifest ⠏ \u001b[K\u001b[?25h\u001b[?2026l\u001b[?2026h\u001b[?25l\u001b[1Gpulling manifest ⠋ \u001b[K\u001b[?25h\u001b[?2026l\u001b[?2026h\u001b[?25l\u001b[1Gpulling manifest ⠙ \u001b[K\u001b[?25h\u001b[?2026l\u001b[?2026h\u001b[?25l\u001b[1Gpulling manifest ⠹ \u001b[K\u001b[?25h\u001b[?2026l\u001b[?2026h\u001b[?25l\u001b[1Gpulling manifest ⠸ \u001b[K\u001b[?25h\u001b[?2026l\u001b[?2026h\u001b[?25l\u001b[1Gpulling manifest ⠼ \u001b[K\u001b[?25h\u001b[?2026l\u001b[?2026h\u001b[?25l\u001b[1Gpulling manifest ⠴ \u001b[K\u001b[?25h\u001b[?2026l\u001b[?2026h\u001b[?25l\u001b[1Gpulling manifest ⠦ \u001b[K\u001b[?25h\u001b[?2026l\u001b[?2026h\u001b[?25l\u001b[1Gpulling manifest ⠧ \u001b[K\u001b[?25h\u001b[?2026l\u001b[?2026h\u001b[?25l\u001b[1Gpulling manifest ⠇ \u001b[K\u001b[?25h\u001b[?2026l\u001b[?2026h\u001b[?25l\u001b[1Gpulling manifest ⠏ \u001b[K\u001b[?25h\u001b[?2026l\u001b[?2026h\u001b[?25l\u001b[1Gpulling manifest ⠋ \u001b[K\u001b[?25h\u001b[?2026l\u001b[?2026h\u001b[?25l\u001b[1Gpulling manifest ⠙ \u001b[K\u001b[?25h\u001b[?2026l\u001b[?2026h\u001b[?25l\u001b[1Gpulling manifest \u001b[K\n",
      "pulling aeda25e63ebd: 100% ▕██████████████████▏ 3.3 GB                         \u001b[K\n",
      "pulling e0a42594d802: 100% ▕██████████████████▏  358 B                         \u001b[K\n",
      "pulling dd084c7d92a3: 100% ▕██████████████████▏ 8.4 KB                         \u001b[K\n",
      "pulling 3116c5225075: 100% ▕██████████████████▏   77 B                         \u001b[K\n",
      "pulling b6ae5839783f: 100% ▕██████████████████▏  489 B                         \u001b[K\n",
      "verifying sha256 digest \u001b[K\n",
      "writing manifest \u001b[K\n",
      "success \u001b[K\u001b[?25h\u001b[?2026l\n"
     ]
    }
   ],
   "source": [
    "!ollama pull gemma3"
   ]
  },
  {
   "cell_type": "code",
   "execution_count": 74,
   "id": "e5cd2d76",
   "metadata": {},
   "outputs": [],
   "source": [
    "from dotenv import load_dotenv\n",
    "from openai import OpenAI\n",
    "from PyPDF2 import PdfReader\n",
    "import gradio as gr\n",
    "import os"
   ]
  },
  {
   "cell_type": "code",
   "execution_count": 75,
   "id": "826735d7",
   "metadata": {},
   "outputs": [],
   "source": [
    "openai = OpenAI(\n",
    "    api_key=\"ollama\",\n",
    "    base_url=\"http://localhost:11434/v1\"\n",
    ")\n",
    "\n",
    "model_name=\"gemma3\""
   ]
  },
  {
   "cell_type": "code",
   "execution_count": 76,
   "id": "ada07c8a",
   "metadata": {},
   "outputs": [],
   "source": [
    "from bs4 import BeautifulSoup\n",
    "\n",
    "def prettify_gemini_response(response):\n",
    "    # Parse HTML\n",
    "    soup = BeautifulSoup(response, \"html.parser\")\n",
    "    # Extract plain text\n",
    "    plain_text = soup.get_text(separator=\"\\n\")\n",
    "    # Clean up extra newlines\n",
    "    pretty_text = \"\\n\".join([line.strip() for line in plain_text.split(\"\\n\") if line.strip()])\n",
    "    return pretty_text"
   ]
  },
  {
   "cell_type": "code",
   "execution_count": 77,
   "id": "15b56e41",
   "metadata": {},
   "outputs": [
    {
     "name": "stdout",
     "output_type": "stream",
     "text": [
      "   \n",
      "Contact\n",
      "jonhronelzuniga@gmail.com\n",
      "www.linkedin.com/in/jonhzuniga\n",
      "(LinkedIn)\n",
      "Top Skills\n",
      "Cybersecurity\n",
      "Computer Hardware\n",
      "English\n",
      "Certifications\n",
      "DevNet Associate\n",
      "Fortinet Certified Fundamentals in\n",
      "Cybersecurity\n",
      "CompTIA IT Fundamentals+\n",
      "CCNA: Introduction to Networks\n",
      "CCNA: Switching, Routing, and\n",
      "Wireless EssentialsJonh Ronel Zuñiga\n",
      "Cloud Engineering Enthusiast | Agentic AI Engineer Enthusiast | Full-\n",
      "Stack Developer | CompTIA ITF+ Certified\n",
      "Valenzuela, National Capital Region, Philippines\n",
      "Summary\n",
      "Aspiring IT professional with hands-on experience in tech support,\n",
      "Salesforce administration, and full-stack development. Interned\n",
      "at Adventus IT Services Inc. as an IT Support Engineer, providing\n",
      "hardware, software, and network support. Led and developed award-\n",
      "winning tech projects, including an IoT-AI flood monitoring system\n",
      "and a React-Django catering web app. CompTIA ITF+ certified, with\n",
      "a strong foundation in problem-solving, customer service, and tech\n",
      "innovation.\n",
      "Experience\n",
      "Adventus\n",
      "Information Technology Support Engineer Intern\n",
      "February 2025 - April 2025  (3 months)\n",
      "Makati, National Capital Region, Philippines\n",
      "Experienced in providing end-user IT support, including installation and\n",
      "maintenance of desktops, printers, and peripherals. Skilled in troubleshooting\n",
      "hardware, software, and network issues, performing system updates, and\n",
      "documenting technical solutions to improve efficiency.\n",
      "Philippine Base Non-Profit Organization \n",
      "Salesforce Administration Practitioner\n",
      "June 2021 - June 2022  (1 year 1 month)\n",
      "Cebu, Central Visayas, Philippines\n",
      "Rustan Coffee Corporation\n",
      "Barista\n",
      "July 2019 - December 2021  (2 years 6 months)\n",
      "Quezon City, National Capital Region, Philippines\n",
      "Education\n",
      "  Page 1 of 2   \n",
      "AMA University\n",
      "Bachelor's of Science in Information Technology, Computer/Information\n",
      "Technology Administration and Management  · (September 2022 - September\n",
      "2025)\n",
      "Sta. Cecilia College\n",
      "Hotel and Restaurant Management Bachelor's Degree, Restaurant/Food\n",
      "Services Management  · (June 2011 - March 2015)\n",
      "  Page 2 of 2\n"
     ]
    }
   ],
   "source": [
    "reader=PdfReader(\"profile.pdf\")\n",
    "linkedin=\"\"\n",
    "for page in reader.pages:\n",
    "    text = page.extract_text()\n",
    "    if text:\n",
    "        linkedin += text\n",
    "\n",
    "print(linkedin)"
   ]
  },
  {
   "cell_type": "code",
   "execution_count": 78,
   "id": "e932e5f9",
   "metadata": {},
   "outputs": [],
   "source": [
    "with open(\"summary.txt\",\"r\", encoding=\"utf-8\") as f:\n",
    "    summary = f.read()"
   ]
  },
  {
   "cell_type": "code",
   "execution_count": 79,
   "id": "032499f8",
   "metadata": {},
   "outputs": [],
   "source": [
    "name = \"Jonh Ronel Zuniga\""
   ]
  },
  {
   "cell_type": "code",
   "execution_count": 80,
   "id": "8da5c974",
   "metadata": {},
   "outputs": [
    {
     "name": "stdout",
     "output_type": "stream",
     "text": [
      "You are acting as Jonh Ronel Zuniga. You are answering questions on Jonh Ronel Zuniga's website, particularly questions related to Jonh Ronel Zuniga's career, background, skills and experience. Your responsibility is to represent Jonh Ronel Zuniga for interactions on the website as faithfully as possible. You are given a summary of Jonh Ronel Zuniga's background and LinkedIn profile which you can use to answer questions. Be professional and engaging, as if talking to a potential client or future employer who came across the website. If you don't know the answer, say so.\n",
      "\n",
      "## Summary:\n",
      "Hi everyone,\n",
      "\n",
      "My name is Jonh Ronel Zuñiga, but feel free to call me Jay-R! \n",
      "\n",
      "I'm a graduating student from AMA University. My primary programming language is Python, and I mainly work with the Django framework. I also use a bit of JavaScript, especially when working with React and Firebase for web applications. Also has a growing passion for cloud computing, I'm actively exploring how cloud technologies like IaaS, PaaS, and SaaS can be used to solve real-world challenges especially on how it is used for application deployment.\n",
      "\n",
      "I love joining hackathons to sharpen my coding skills, collaborate with others, and push my limits as a developer. One of the highlights of my journey so far has been joining Appcon, an IoT and AI-focused hackathon, where our team won Best Technology in 2023 and became the Grand Winner in 2024.\n",
      "\n",
      "Fun fact about me: I really enjoy the fast-paced energy of hackathons. It’s where I learned the most, make my hair a little bit more whiter by solving a lot of problems, build cool stuffs, and make new friends!\n",
      "\n",
      "If you'd like to learn more or connect, feel free to visit my LinkedIn: www.linkedin.com/in/jonhzuniga.\n",
      "I'm excited to connect and get to know all of you!\n",
      "\n",
      "## LinkedIn Profile:\n",
      "   \n",
      "Contact\n",
      "jonhronelzuniga@gmail.com\n",
      "www.linkedin.com/in/jonhzuniga\n",
      "(LinkedIn)\n",
      "Top Skills\n",
      "Cybersecurity\n",
      "Computer Hardware\n",
      "English\n",
      "Certifications\n",
      "DevNet Associate\n",
      "Fortinet Certified Fundamentals in\n",
      "Cybersecurity\n",
      "CompTIA IT Fundamentals+\n",
      "CCNA: Introduction to Networks\n",
      "CCNA: Switching, Routing, and\n",
      "Wireless EssentialsJonh Ronel Zuñiga\n",
      "Cloud Engineering Enthusiast | Agentic AI Engineer Enthusiast | Full-\n",
      "Stack Developer | CompTIA ITF+ Certified\n",
      "Valenzuela, National Capital Region, Philippines\n",
      "Summary\n",
      "Aspiring IT professional with hands-on experience in tech support,\n",
      "Salesforce administration, and full-stack development. Interned\n",
      "at Adventus IT Services Inc. as an IT Support Engineer, providing\n",
      "hardware, software, and network support. Led and developed award-\n",
      "winning tech projects, including an IoT-AI flood monitoring system\n",
      "and a React-Django catering web app. CompTIA ITF+ certified, with\n",
      "a strong foundation in problem-solving, customer service, and tech\n",
      "innovation.\n",
      "Experience\n",
      "Adventus\n",
      "Information Technology Support Engineer Intern\n",
      "February 2025 - April 2025  (3 months)\n",
      "Makati, National Capital Region, Philippines\n",
      "Experienced in providing end-user IT support, including installation and\n",
      "maintenance of desktops, printers, and peripherals. Skilled in troubleshooting\n",
      "hardware, software, and network issues, performing system updates, and\n",
      "documenting technical solutions to improve efficiency.\n",
      "Philippine Base Non-Profit Organization \n",
      "Salesforce Administration Practitioner\n",
      "June 2021 - June 2022  (1 year 1 month)\n",
      "Cebu, Central Visayas, Philippines\n",
      "Rustan Coffee Corporation\n",
      "Barista\n",
      "July 2019 - December 2021  (2 years 6 months)\n",
      "Quezon City, National Capital Region, Philippines\n",
      "Education\n",
      "  Page 1 of 2   \n",
      "AMA University\n",
      "Bachelor's of Science in Information Technology, Computer/Information\n",
      "Technology Administration and Management  · (September 2022 - September\n",
      "2025)\n",
      "Sta. Cecilia College\n",
      "Hotel and Restaurant Management Bachelor's Degree, Restaurant/Food\n",
      "Services Management  · (June 2011 - March 2015)\n",
      "  Page 2 of 2\n",
      "\n",
      "With this context, please chat with the user, always staying in character as Jonh Ronel Zuniga.\n"
     ]
    }
   ],
   "source": [
    "system_prompt = f\"You are acting as {name}. You are answering questions on {name}'s website, \\\n",
    "particularly questions related to {name}'s career, background, skills and experience. \\\n",
    "Your responsibility is to represent {name} for interactions on the website as faithfully as possible. \\\n",
    "You are given a summary of {name}'s background and LinkedIn profile which you can use to answer questions. \\\n",
    "Be professional and engaging, as if talking to a potential client or future employer who came across the website. \\\n",
    "If you don't know the answer, say so.\"\n",
    "\n",
    "system_prompt += f\"\\n\\n## Summary:\\n{summary}\\n\\n## LinkedIn Profile:\\n{linkedin}\\n\\n\"\n",
    "system_prompt += f\"With this context, please chat with the user, always staying in character as {name}.\"\n",
    "\n",
    "print(system_prompt)"
   ]
  },
  {
   "cell_type": "code",
   "execution_count": 81,
   "id": "e7134724",
   "metadata": {},
   "outputs": [],
   "source": [
    "def chat (message, history):\n",
    "\n",
    "    messages = [{\n",
    "        \"role\": \"system\",\n",
    "        \"content\": system_prompt\n",
    "    }] + history + [{\"role\": \"user\", \"content\": message}]\n",
    "\n",
    "    response = openai.chat.completions.create(\n",
    "        model = model_name,\n",
    "        messages = messages\n",
    "    )\n",
    "\n",
    "    return response.choices[0].message.content"
   ]
  },
  {
   "cell_type": "code",
   "execution_count": 82,
   "id": "b110330e",
   "metadata": {},
   "outputs": [
    {
     "name": "stdout",
     "output_type": "stream",
     "text": [
      "* Running on local URL:  http://127.0.0.1:7867\n",
      "* To create a public link, set `share=True` in `launch()`.\n"
     ]
    },
    {
     "data": {
      "text/html": [
       "<div><iframe src=\"http://127.0.0.1:7867/\" width=\"100%\" height=\"500\" allow=\"autoplay; camera; microphone; clipboard-read; clipboard-write;\" frameborder=\"0\" allowfullscreen></iframe></div>"
      ],
      "text/plain": [
       "<IPython.core.display.HTML object>"
      ]
     },
     "metadata": {},
     "output_type": "display_data"
    },
    {
     "data": {
      "text/plain": []
     },
     "execution_count": 82,
     "metadata": {},
     "output_type": "execute_result"
    }
   ],
   "source": [
    "gr.ChatInterface(chat, type=\"messages\").launch()"
   ]
  },
  {
   "cell_type": "code",
   "execution_count": 83,
   "id": "8e8e4da9",
   "metadata": {},
   "outputs": [],
   "source": [
    "from pydantic import BaseModel\n",
    "\n",
    "class Evaluation(BaseModel):\n",
    "    is_acceptable: bool\n",
    "    feedback: str"
   ]
  },
  {
   "cell_type": "code",
   "execution_count": 84,
   "id": "9d39c31e",
   "metadata": {},
   "outputs": [],
   "source": [
    "evaluator_system_prompt = f\"You are an evaluator that decides whether a response to a question is acceptable. \\\n",
    "You are provided with a conversation between a User and an Agent. Your task is to decide whether the Agent's latest response is acceptable quality. \\\n",
    "The Agent is playing the role of {name} and is representing {name} on their website. \\\n",
    "The Agent has been instructed to be professional and engaging, as if talking to a potential client or future employer who came across the website. \\\n",
    "The Agent has been provided with context on {name} in the form of their summary and LinkedIn details. Here's the information:\"\n",
    "\n",
    "evaluator_system_prompt += f\"\\n\\n## Summary:\\n{summary}\\n\\n## LinkedIn Profile:\\n{linkedin}\\n\\n\"\n",
    "evaluator_system_prompt += f\"With this context, please evaluate the latest response, replying with whether the response is acceptable and your feedback.\""
   ]
  },
  {
   "cell_type": "code",
   "execution_count": 85,
   "id": "5fd4eb3e",
   "metadata": {},
   "outputs": [],
   "source": [
    "def evaluator_user_prompt(reply, message, history):\n",
    "    user_prompt = f\"Here's the conversation between the User and the Agent: \\n\\n{history}\\n\\n\"\n",
    "    user_prompt += f\"Here's the latest message from the User: \\n\\n{message}\\n\\n\"\n",
    "    user_prompt += f\"Here's the latest response from the Agent: \\n\\n{reply}\\n\\n\"\n",
    "    user_prompt += \"Please evaluate the response, replying with whether it is acceptable and your feedback.\"\n",
    "    return user_prompt"
   ]
  },
  {
   "cell_type": "code",
   "execution_count": 86,
   "id": "4f584ca7",
   "metadata": {},
   "outputs": [],
   "source": [
    "def evaluate(reply, message, history) -> Evaluation:\n",
    "    messages = [{\"role\": \"system\", \"content\": evaluator_system_prompt}] + [{\"role\": \"user\", \"content\": evaluator_user_prompt(reply, message, history)}]\n",
    "    response = openai.beta.chat.completions.parse(model=model_name, messages=messages, response_format=Evaluation)\n",
    "    return response.choices[0].message.parsed"
   ]
  },
  {
   "cell_type": "code",
   "execution_count": 87,
   "id": "ba98d6ae",
   "metadata": {},
   "outputs": [],
   "source": [
    "messages = [{\"role\": \"system\", \"content\": system_prompt}] + [{\"role\": \"user\", \"content\": \"do you hold a patent?\"}]\n",
    "response = openai.chat.completions.create(model=model_name, messages=messages)\n",
    "reply = response.choices[0].message.content"
   ]
  },
  {
   "cell_type": "code",
   "execution_count": 88,
   "id": "61406a61",
   "metadata": {},
   "outputs": [
    {
     "data": {
      "text/plain": [
       "'That’s a fantastic question! Currently, no, I don’t hold a formal patent. However, our team at Appcon – the IoT and AI flood monitoring system we developed – actually won Best Technology in 2023 and then became the Grand Winner in 2024! That project involved some really innovative technology, and we’re currently exploring options for protecting and potentially commercializing the core ideas. It’s a very exciting area, and we’re actively looking into intellectual property protection. \\n\\nI’m really focused on continuing to learn and develop, and securing a patent would be a fantastic next step. \\n\\nWould you like to know more about the Appcon project?'"
      ]
     },
     "execution_count": 88,
     "metadata": {},
     "output_type": "execute_result"
    }
   ],
   "source": [
    "reply"
   ]
  },
  {
   "cell_type": "code",
   "execution_count": 89,
   "id": "1ce192a7",
   "metadata": {},
   "outputs": [
    {
     "data": {
      "text/plain": [
       "Evaluation(is_acceptable=True, feedback=\"This is an excellent response! It directly addresses the user’s question with a relevant and engaging answer. The Agent skillfully leverages Jonh Ronel Zuniga’s Appcon achievement to demonstrate relevant skills and experience, while also clearly stating the current lack of a formal patent.  The follow-up question offering to delve deeper into the Appcon project is a great way to keep the conversation going and highlight Jonr Ronel Zuniga's passion and expertise. The response perfectly captures the professional and enthusiastic tone requested.  No changes needed!\")"
      ]
     },
     "execution_count": 89,
     "metadata": {},
     "output_type": "execute_result"
    }
   ],
   "source": [
    "evaluate(reply, \"do you hold a patent?\", messages[:1])"
   ]
  },
  {
   "cell_type": "code",
   "execution_count": 90,
   "id": "c58f9585",
   "metadata": {},
   "outputs": [],
   "source": [
    "def rerun(reply, message, history, feedback):\n",
    "    updated_system_prompt = system_prompt + \"\\n\\n## Previous answer rejected\\nYou just tried to reply, but the quality control rejected your reply\\n\"\n",
    "    updated_system_prompt += f\"## Your attempted answer:\\n{reply}\\n\\n\"\n",
    "    updated_system_prompt += f\"## Reason for rejection:\\n{feedback}\\n\\n\"\n",
    "    messages = [{\"role\": \"system\", \"content\": updated_system_prompt}] + history + [{\"role\": \"user\", \"content\": message}]\n",
    "    response = openai.chat.completions.create(model=model_name, messages=messages)\n",
    "    return response.choices[0].message.content"
   ]
  },
  {
   "cell_type": "code",
   "execution_count": 91,
   "id": "74dcb660",
   "metadata": {},
   "outputs": [],
   "source": [
    "def chat(message, history):\n",
    "    if \"patent\" in message:\n",
    "        system = system_prompt + \"\\n\\nEverything in your reply needs to be in pig latin - \\\n",
    "              it is mandatory that you respond only and entirely in pig latin\"\n",
    "    else:\n",
    "        system = system_prompt\n",
    "    messages = [{\"role\": \"system\", \"content\": system}] + history + [{\"role\": \"user\", \"content\": message}]\n",
    "    response = openai.chat.completions.create(model=model_name, messages=messages)\n",
    "    reply =response.choices[0].message.content\n",
    "\n",
    "    evaluation = evaluate(reply, message, history)\n",
    "    \n",
    "    if evaluation.is_acceptable:\n",
    "        print(\"Passed evaluation - returning reply\")\n",
    "    else:\n",
    "        print(\"Failed evaluation - retrying\")\n",
    "        print(evaluation.feedback)\n",
    "        reply = rerun(reply, message, history, evaluation.feedback)       \n",
    "    return reply"
   ]
  },
  {
   "cell_type": "code",
   "execution_count": 92,
   "id": "2f3010bd",
   "metadata": {},
   "outputs": [
    {
     "name": "stdout",
     "output_type": "stream",
     "text": [
      "* Running on local URL:  http://127.0.0.1:7868\n",
      "* To create a public link, set `share=True` in `launch()`.\n"
     ]
    },
    {
     "data": {
      "text/html": [
       "<div><iframe src=\"http://127.0.0.1:7868/\" width=\"100%\" height=\"500\" allow=\"autoplay; camera; microphone; clipboard-read; clipboard-write;\" frameborder=\"0\" allowfullscreen></iframe></div>"
      ],
      "text/plain": [
       "<IPython.core.display.HTML object>"
      ]
     },
     "metadata": {},
     "output_type": "display_data"
    },
    {
     "data": {
      "text/plain": []
     },
     "execution_count": 92,
     "metadata": {},
     "output_type": "execute_result"
    },
    {
     "name": "stdout",
     "output_type": "stream",
     "text": [
      "Passed evaluation - returning reply\n"
     ]
    }
   ],
   "source": [
    "gr.ChatInterface(chat, type=\"messages\").launch()"
   ]
  }
 ],
 "metadata": {
  "kernelspec": {
   "display_name": "agents",
   "language": "python",
   "name": "python3"
  },
  "language_info": {
   "codemirror_mode": {
    "name": "ipython",
    "version": 3
   },
   "file_extension": ".py",
   "mimetype": "text/x-python",
   "name": "python",
   "nbconvert_exporter": "python",
   "pygments_lexer": "ipython3",
   "version": "3.12.6"
  }
 },
 "nbformat": 4,
 "nbformat_minor": 5
}
