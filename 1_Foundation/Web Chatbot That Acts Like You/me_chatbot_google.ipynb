{
 "cells": [
  {
   "cell_type": "code",
   "execution_count": 81,
   "id": "44965efe",
   "metadata": {},
   "outputs": [],
   "source": [
    "from dotenv import load_dotenv\n",
    "from openai import OpenAI\n",
    "from PyPDF2 import PdfReader\n",
    "import gradio as gr\n",
    "import os\n",
    "import google.generativeai as genai\n",
    "from google.generativeai import GenerativeModel\n"
   ]
  },
  {
   "cell_type": "code",
   "execution_count": null,
   "id": "0b938925",
   "metadata": {},
   "outputs": [],
   "source": [
    "load_dotenv(override=True)\n",
    "genai.configure(api_key=os.getenv(\"GEMMA3_API_KEY\"))\n",
    "model = GenerativeModel(\"gemini-1.5-flash\")\n"
   ]
  },
  {
   "cell_type": "code",
   "execution_count": 83,
   "id": "7a395ed4",
   "metadata": {},
   "outputs": [],
   "source": [
    "from bs4 import BeautifulSoup\n",
    "\n",
    "def prettify_gemini_response(response):\n",
    "    # Parse HTML\n",
    "    soup = BeautifulSoup(response, \"html.parser\")\n",
    "    # Extract plain text\n",
    "    plain_text = soup.get_text(separator=\"\\n\")\n",
    "    # Clean up extra newlines\n",
    "    pretty_text = \"\\n\".join([line.strip() for line in plain_text.split(\"\\n\") if line.strip()])\n",
    "    return pretty_text"
   ]
  },
  {
   "cell_type": "code",
   "execution_count": 84,
   "id": "50000da8",
   "metadata": {},
   "outputs": [],
   "source": [
    "reader=PdfReader(\"profile.pdf\")\n",
    "linkedin=\"\"\n",
    "for page in reader.pages:\n",
    "    text = page.extract_text()\n",
    "    if text:\n",
    "        linkedin += text"
   ]
  },
  {
   "cell_type": "code",
   "execution_count": 85,
   "id": "af0d520e",
   "metadata": {},
   "outputs": [
    {
     "name": "stdout",
     "output_type": "stream",
     "text": [
      "   \n",
      "Contact\n",
      "jonhronelzuniga@gmail.com\n",
      "www.linkedin.com/in/jonhzuniga\n",
      "(LinkedIn)\n",
      "Top Skills\n",
      "Cybersecurity\n",
      "Computer Hardware\n",
      "English\n",
      "Certifications\n",
      "DevNet Associate\n",
      "Fortinet Certified Fundamentals in\n",
      "Cybersecurity\n",
      "CompTIA IT Fundamentals+\n",
      "CCNA: Introduction to Networks\n",
      "CCNA: Switching, Routing, and\n",
      "Wireless EssentialsJonh Ronel Zuñiga\n",
      "Cloud Engineering Enthusiast | Agentic AI Engineer Enthusiast | Full-\n",
      "Stack Developer | CompTIA ITF+ Certified\n",
      "Valenzuela, National Capital Region, Philippines\n",
      "Summary\n",
      "Aspiring IT professional with hands-on experience in tech support,\n",
      "Salesforce administration, and full-stack development. Interned\n",
      "at Adventus IT Services Inc. as an IT Support Engineer, providing\n",
      "hardware, software, and network support. Led and developed award-\n",
      "winning tech projects, including an IoT-AI flood monitoring system\n",
      "and a React-Django catering web app. CompTIA ITF+ certified, with\n",
      "a strong foundation in problem-solving, customer service, and tech\n",
      "innovation.\n",
      "Experience\n",
      "Adventus\n",
      "Information Technology Support Engineer Intern\n",
      "February 2025 - April 2025  (3 months)\n",
      "Makati, National Capital Region, Philippines\n",
      "Experienced in providing end-user IT support, including installation and\n",
      "maintenance of desktops, printers, and peripherals. Skilled in troubleshooting\n",
      "hardware, software, and network issues, performing system updates, and\n",
      "documenting technical solutions to improve efficiency.\n",
      "Philippine Base Non-Profit Organization \n",
      "Salesforce Administration Practitioner\n",
      "June 2021 - June 2022  (1 year 1 month)\n",
      "Cebu, Central Visayas, Philippines\n",
      "Rustan Coffee Corporation\n",
      "Barista\n",
      "July 2019 - December 2021  (2 years 6 months)\n",
      "Quezon City, National Capital Region, Philippines\n",
      "Education\n",
      "  Page 1 of 2   \n",
      "AMA University\n",
      "Bachelor's of Science in Information Technology, Computer/Information\n",
      "Technology Administration and Management  · (September 2022 - September\n",
      "2025)\n",
      "Sta. Cecilia College\n",
      "Hotel and Restaurant Management Bachelor's Degree, Restaurant/Food\n",
      "Services Management  · (June 2011 - March 2015)\n",
      "  Page 2 of 2\n"
     ]
    }
   ],
   "source": [
    "print(linkedin)"
   ]
  },
  {
   "cell_type": "code",
   "execution_count": 86,
   "id": "f0ddac64",
   "metadata": {},
   "outputs": [],
   "source": [
    "with open(\"summary.txt\",\"r\", encoding=\"utf-8\") as f:\n",
    "    summary = f.read()"
   ]
  },
  {
   "cell_type": "code",
   "execution_count": 87,
   "id": "1ac4238c",
   "metadata": {},
   "outputs": [],
   "source": [
    "name = \"Jonh Ronel Zuniga\""
   ]
  },
  {
   "cell_type": "code",
   "execution_count": 88,
   "id": "c5c47304",
   "metadata": {},
   "outputs": [],
   "source": [
    "system_prompt = f\"You are acting as {name}. You are answering questions on {name}'s website, \\\n",
    "particularly questions related to {name}'s career, background, skills and experience. \\\n",
    "Your responsibility is to represent {name} for interactions on the website as faithfully as possible. \\\n",
    "You are given a summary of {name}'s background and LinkedIn profile which you can use to answer questions. \\\n",
    "Be professional and engaging, as if talking to a potential client or future employer who came across the website. \\\n",
    "If you don't know the answer, say so.\"\n",
    "\n",
    "system_prompt += f\"\\n\\n## Summary:\\n{summary}\\n\\n## LinkedIn Profile:\\n{linkedin}\\n\\n\"\n",
    "system_prompt += f\"With this context, please chat with the user, always staying in character as {name}.\""
   ]
  },
  {
   "cell_type": "code",
   "execution_count": 89,
   "id": "aaafc27b",
   "metadata": {},
   "outputs": [
    {
     "name": "stdout",
     "output_type": "stream",
     "text": [
      "You are acting as Jonh Ronel Zuniga. You are answering questions on Jonh Ronel Zuniga's website, particularly questions related to Jonh Ronel Zuniga's career, background, skills and experience. Your responsibility is to represent Jonh Ronel Zuniga for interactions on the website as faithfully as possible. You are given a summary of Jonh Ronel Zuniga's background and LinkedIn profile which you can use to answer questions. Be professional and engaging, as if talking to a potential client or future employer who came across the website. If you don't know the answer, say so.\n",
      "\n",
      "## Summary:\n",
      "Hi everyone,\n",
      "\n",
      "My name is Jonh Ronel Zuñiga, but feel free to call me Jay-R! \n",
      "\n",
      "I'm a graduating student from AMA University. My primary programming language is Python, and I mainly work with the Django framework. I also use a bit of JavaScript, especially when working with React and Firebase for web applications. Also has a growing passion for cloud computing, I'm actively exploring how cloud technologies like IaaS, PaaS, and SaaS can be used to solve real-world challenges especially on how it is used for application deployment.\n",
      "\n",
      "I love joining hackathons to sharpen my coding skills, collaborate with others, and push my limits as a developer. One of the highlights of my journey so far has been joining Appcon, an IoT and AI-focused hackathon, where our team won Best Technology in 2023 and became the Grand Winner in 2024.\n",
      "\n",
      "Fun fact about me: I really enjoy the fast-paced energy of hackathons. It’s where I learned the most, make my hair a little bit more whiter by solving a lot of problems, build cool stuffs, and make new friends!\n",
      "\n",
      "If you'd like to learn more or connect, feel free to visit my LinkedIn: www.linkedin.com/in/jonhzuniga.\n",
      "I'm excited to connect and get to know all of you!\n",
      "\n",
      "## LinkedIn Profile:\n",
      "   \n",
      "Contact\n",
      "jonhronelzuniga@gmail.com\n",
      "www.linkedin.com/in/jonhzuniga\n",
      "(LinkedIn)\n",
      "Top Skills\n",
      "Cybersecurity\n",
      "Computer Hardware\n",
      "English\n",
      "Certifications\n",
      "DevNet Associate\n",
      "Fortinet Certified Fundamentals in\n",
      "Cybersecurity\n",
      "CompTIA IT Fundamentals+\n",
      "CCNA: Introduction to Networks\n",
      "CCNA: Switching, Routing, and\n",
      "Wireless EssentialsJonh Ronel Zuñiga\n",
      "Cloud Engineering Enthusiast | Agentic AI Engineer Enthusiast | Full-\n",
      "Stack Developer | CompTIA ITF+ Certified\n",
      "Valenzuela, National Capital Region, Philippines\n",
      "Summary\n",
      "Aspiring IT professional with hands-on experience in tech support,\n",
      "Salesforce administration, and full-stack development. Interned\n",
      "at Adventus IT Services Inc. as an IT Support Engineer, providing\n",
      "hardware, software, and network support. Led and developed award-\n",
      "winning tech projects, including an IoT-AI flood monitoring system\n",
      "and a React-Django catering web app. CompTIA ITF+ certified, with\n",
      "a strong foundation in problem-solving, customer service, and tech\n",
      "innovation.\n",
      "Experience\n",
      "Adventus\n",
      "Information Technology Support Engineer Intern\n",
      "February 2025 - April 2025  (3 months)\n",
      "Makati, National Capital Region, Philippines\n",
      "Experienced in providing end-user IT support, including installation and\n",
      "maintenance of desktops, printers, and peripherals. Skilled in troubleshooting\n",
      "hardware, software, and network issues, performing system updates, and\n",
      "documenting technical solutions to improve efficiency.\n",
      "Philippine Base Non-Profit Organization \n",
      "Salesforce Administration Practitioner\n",
      "June 2021 - June 2022  (1 year 1 month)\n",
      "Cebu, Central Visayas, Philippines\n",
      "Rustan Coffee Corporation\n",
      "Barista\n",
      "July 2019 - December 2021  (2 years 6 months)\n",
      "Quezon City, National Capital Region, Philippines\n",
      "Education\n",
      "  Page 1 of 2   \n",
      "AMA University\n",
      "Bachelor's of Science in Information Technology, Computer/Information\n",
      "Technology Administration and Management  · (September 2022 - September\n",
      "2025)\n",
      "Sta. Cecilia College\n",
      "Hotel and Restaurant Management Bachelor's Degree, Restaurant/Food\n",
      "Services Management  · (June 2011 - March 2015)\n",
      "  Page 2 of 2\n",
      "\n",
      "With this context, please chat with the user, always staying in character as Jonh Ronel Zuniga.\n"
     ]
    }
   ],
   "source": [
    "print(system_prompt)"
   ]
  },
  {
   "cell_type": "code",
   "execution_count": 90,
   "id": "76a1b308",
   "metadata": {},
   "outputs": [],
   "source": [
    "# def chat (message, history):\n",
    "\n",
    "#     messages = [{\n",
    "#         \"role\": \"system\",\n",
    "#         \"content\": system_prompt\n",
    "#     }] + history + [{\"role\": \"user\", \"messages\": message}]\n",
    "\n",
    "#     response = genai.chat.completions.create(\n",
    "#         model = model,\n",
    "#         messages = messages\n",
    "#     )\n",
    "\n",
    "#     return response.choices[0].message.content\n",
    "\n",
    "\n",
    "def chat(message, history):\n",
    "    # Gemini needs full context manually\n",
    "    conversation = f\"System: {system_prompt}\\n\"\n",
    "    for user_msg, bot_msg in history:\n",
    "        conversation += f\"User: {user_msg}\\nAssistant: {bot_msg}\\n\"\n",
    "    conversation += f\"User: {message}\\nAssistant:\"\n",
    "\n",
    "    # Create a Gemini model instance\n",
    "    model = genai.GenerativeModel(\"gemini-1.5-flash-latest\")\n",
    "    \n",
    "    # Generate response\n",
    "    response = model.generate_content([conversation])\n",
    "\n",
    "    return response.text"
   ]
  },
  {
   "cell_type": "code",
   "execution_count": 91,
   "id": "f2052760",
   "metadata": {},
   "outputs": [
    {
     "name": "stdout",
     "output_type": "stream",
     "text": [
      "* Running on local URL:  http://127.0.0.1:7867\n",
      "* To create a public link, set `share=True` in `launch()`.\n"
     ]
    },
    {
     "data": {
      "text/html": [
       "<div><iframe src=\"http://127.0.0.1:7867/\" width=\"100%\" height=\"500\" allow=\"autoplay; camera; microphone; clipboard-read; clipboard-write;\" frameborder=\"0\" allowfullscreen></iframe></div>"
      ],
      "text/plain": [
       "<IPython.core.display.HTML object>"
      ]
     },
     "metadata": {},
     "output_type": "display_data"
    },
    {
     "data": {
      "text/plain": []
     },
     "execution_count": 91,
     "metadata": {},
     "output_type": "execute_result"
    },
    {
     "name": "stderr",
     "output_type": "stream",
     "text": [
      "Traceback (most recent call last):\n",
      "  File \"c:\\Users\\Jay-R\\Desktop\\agentic-ai-projects\\.venv\\Lib\\site-packages\\gradio\\queueing.py\", line 626, in process_events\n",
      "    response = await route_utils.call_process_api(\n",
      "               ^^^^^^^^^^^^^^^^^^^^^^^^^^^^^^^^^^^\n",
      "  File \"c:\\Users\\Jay-R\\Desktop\\agentic-ai-projects\\.venv\\Lib\\site-packages\\gradio\\route_utils.py\", line 322, in call_process_api\n",
      "    output = await app.get_blocks().process_api(\n",
      "             ^^^^^^^^^^^^^^^^^^^^^^^^^^^^^^^^^^^\n",
      "  File \"c:\\Users\\Jay-R\\Desktop\\agentic-ai-projects\\.venv\\Lib\\site-packages\\gradio\\blocks.py\", line 2229, in process_api\n",
      "    result = await self.call_function(\n",
      "             ^^^^^^^^^^^^^^^^^^^^^^^^^\n",
      "  File \"c:\\Users\\Jay-R\\Desktop\\agentic-ai-projects\\.venv\\Lib\\site-packages\\gradio\\blocks.py\", line 1738, in call_function\n",
      "    prediction = await fn(*processed_input)\n",
      "                 ^^^^^^^^^^^^^^^^^^^^^^^^^^\n",
      "  File \"c:\\Users\\Jay-R\\Desktop\\agentic-ai-projects\\.venv\\Lib\\site-packages\\gradio\\utils.py\", line 907, in async_wrapper\n",
      "    response = await f(*args, **kwargs)\n",
      "               ^^^^^^^^^^^^^^^^^^^^^^^^\n",
      "  File \"c:\\Users\\Jay-R\\Desktop\\agentic-ai-projects\\.venv\\Lib\\site-packages\\gradio\\chat_interface.py\", line 545, in __wrapper\n",
      "    return await submit_fn(*args, **kwargs)\n",
      "           ^^^^^^^^^^^^^^^^^^^^^^^^^^^^^^^^\n",
      "  File \"c:\\Users\\Jay-R\\Desktop\\agentic-ai-projects\\.venv\\Lib\\site-packages\\gradio\\chat_interface.py\", line 917, in _submit_fn\n",
      "    response = await anyio.to_thread.run_sync(\n",
      "               ^^^^^^^^^^^^^^^^^^^^^^^^^^^^^^^\n",
      "  File \"c:\\Users\\Jay-R\\Desktop\\agentic-ai-projects\\.venv\\Lib\\site-packages\\anyio\\to_thread.py\", line 56, in run_sync\n",
      "    return await get_async_backend().run_sync_in_worker_thread(\n",
      "           ^^^^^^^^^^^^^^^^^^^^^^^^^^^^^^^^^^^^^^^^^^^^^^^^^^^^\n",
      "  File \"c:\\Users\\Jay-R\\Desktop\\agentic-ai-projects\\.venv\\Lib\\site-packages\\anyio\\_backends\\_asyncio.py\", line 2470, in run_sync_in_worker_thread\n",
      "    return await future\n",
      "           ^^^^^^^^^^^^\n",
      "  File \"c:\\Users\\Jay-R\\Desktop\\agentic-ai-projects\\.venv\\Lib\\site-packages\\anyio\\_backends\\_asyncio.py\", line 967, in run\n",
      "    result = context.run(func, *args)\n",
      "             ^^^^^^^^^^^^^^^^^^^^^^^^\n",
      "  File \"C:\\Users\\Jay-R\\AppData\\Local\\Temp\\ipykernel_6120\\3972831931.py\", line 27, in chat\n",
      "    response = model.generate_content([conversation])\n",
      "               ^^^^^^^^^^^^^^^^^^^^^^^^^^^^^^^^^^^^^^\n",
      "  File \"c:\\Users\\Jay-R\\Desktop\\agentic-ai-projects\\.venv\\Lib\\site-packages\\google\\generativeai\\generative_models.py\", line 331, in generate_content\n",
      "    response = self._client.generate_content(\n",
      "               ^^^^^^^^^^^^^^^^^^^^^^^^^^^^^^\n",
      "  File \"c:\\Users\\Jay-R\\Desktop\\agentic-ai-projects\\.venv\\Lib\\site-packages\\google\\ai\\generativelanguage_v1beta\\services\\generative_service\\client.py\", line 835, in generate_content\n",
      "    response = rpc(\n",
      "               ^^^^\n",
      "  File \"c:\\Users\\Jay-R\\Desktop\\agentic-ai-projects\\.venv\\Lib\\site-packages\\google\\api_core\\gapic_v1\\method.py\", line 131, in __call__\n",
      "    return wrapped_func(*args, **kwargs)\n",
      "           ^^^^^^^^^^^^^^^^^^^^^^^^^^^^^\n",
      "  File \"c:\\Users\\Jay-R\\Desktop\\agentic-ai-projects\\.venv\\Lib\\site-packages\\google\\api_core\\retry\\retry_unary.py\", line 294, in retry_wrapped_func\n",
      "    return retry_target(\n",
      "           ^^^^^^^^^^^^^\n",
      "  File \"c:\\Users\\Jay-R\\Desktop\\agentic-ai-projects\\.venv\\Lib\\site-packages\\google\\api_core\\retry\\retry_unary.py\", line 156, in retry_target\n",
      "    next_sleep = _retry_error_helper(\n",
      "                 ^^^^^^^^^^^^^^^^^^^^\n",
      "  File \"c:\\Users\\Jay-R\\Desktop\\agentic-ai-projects\\.venv\\Lib\\site-packages\\google\\api_core\\retry\\retry_base.py\", line 214, in _retry_error_helper\n",
      "    raise final_exc from source_exc\n",
      "  File \"c:\\Users\\Jay-R\\Desktop\\agentic-ai-projects\\.venv\\Lib\\site-packages\\google\\api_core\\retry\\retry_unary.py\", line 147, in retry_target\n",
      "    result = target()\n",
      "             ^^^^^^^^\n",
      "  File \"c:\\Users\\Jay-R\\Desktop\\agentic-ai-projects\\.venv\\Lib\\site-packages\\google\\api_core\\timeout.py\", line 130, in func_with_timeout\n",
      "    return func(*args, **kwargs)\n",
      "           ^^^^^^^^^^^^^^^^^^^^^\n",
      "  File \"c:\\Users\\Jay-R\\Desktop\\agentic-ai-projects\\.venv\\Lib\\site-packages\\google\\api_core\\grpc_helpers.py\", line 78, in error_remapped_callable\n",
      "    raise exceptions.from_grpc_error(exc) from exc\n",
      "google.api_core.exceptions.InvalidArgument: 400 API key not valid. Please pass a valid API key. [reason: \"API_KEY_INVALID\"\n",
      "domain: \"googleapis.com\"\n",
      "metadata {\n",
      "  key: \"service\"\n",
      "  value: \"generativelanguage.googleapis.com\"\n",
      "}\n",
      ", locale: \"en-US\"\n",
      "message: \"API key not valid. Please pass a valid API key.\"\n",
      "]\n"
     ]
    }
   ],
   "source": [
    "gr.ChatInterface(chat, type=\"messages\").launch()"
   ]
  }
 ],
 "metadata": {
  "kernelspec": {
   "display_name": "agents",
   "language": "python",
   "name": "python3"
  },
  "language_info": {
   "codemirror_mode": {
    "name": "ipython",
    "version": 3
   },
   "file_extension": ".py",
   "mimetype": "text/x-python",
   "name": "python",
   "nbconvert_exporter": "python",
   "pygments_lexer": "ipython3",
   "version": "3.12.6"
  }
 },
 "nbformat": 4,
 "nbformat_minor": 5
}
