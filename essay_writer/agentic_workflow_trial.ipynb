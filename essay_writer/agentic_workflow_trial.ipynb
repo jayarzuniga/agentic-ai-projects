{
 "cells": [
  {
   "cell_type": "code",
   "execution_count": 35,
   "id": "8e98e212",
   "metadata": {},
   "outputs": [
    {
     "data": {
      "text/plain": [
       "True"
      ]
     },
     "execution_count": 35,
     "metadata": {},
     "output_type": "execute_result"
    }
   ],
   "source": [
    "from dotenv import load_dotenv\n",
    "load_dotenv(override=True)"
   ]
  },
  {
   "cell_type": "code",
   "execution_count": 36,
   "id": "63b01805",
   "metadata": {},
   "outputs": [
    {
     "name": "stdout",
     "output_type": "stream",
     "text": [
      "Gemini API key found in environment variables.sk-or-v1-\n"
     ]
    }
   ],
   "source": [
    "import os\n",
    "gemini_api_key = os.getenv(\"GEMINI_API_KEY\")\n",
    "\n",
    "if gemini_api_key:\n",
    "    print(f\"Gemini API key found in environment variables.{gemini_api_key[:9]}\")\n",
    "else:\n",
    "    print(\"Gemini API key not found in environment variables.\")"
   ]
  },
  {
   "cell_type": "code",
   "execution_count": 37,
   "id": "d7801ec6",
   "metadata": {},
   "outputs": [],
   "source": [
    "from openai import OpenAI\n",
    "\n",
    "client = OpenAI(api_key=gemini_api_key, base_url=\"https://openrouter.ai/api/v1\")"
   ]
  },
  {
   "cell_type": "code",
   "execution_count": 38,
   "id": "94706808",
   "metadata": {},
   "outputs": [],
   "source": [
    "messages = [{\"role\": \"user\", \"content\": \"What is 2+2?\"}]"
   ]
  },
  {
   "cell_type": "code",
   "execution_count": 40,
   "id": "7fd645df",
   "metadata": {},
   "outputs": [
    {
     "name": "stdout",
     "output_type": "stream",
     "text": [
      "2 + 2 = 4\n",
      "\n"
     ]
    }
   ],
   "source": [
    "response = client.chat.completions.create(\n",
    "    model = \"google/gemma-3n-e2b-it:free\",\n",
    "    messages = messages\n",
    ")\n",
    "\n",
    "print(response.choices[0].message.content)"
   ]
  },
  {
   "cell_type": "markdown",
   "id": "545c80e2",
   "metadata": {},
   "source": [
    "Now the for testing purpose everything is working upto this block."
   ]
  },
  {
   "cell_type": "code",
   "execution_count": 43,
   "id": "521a381f",
   "metadata": {},
   "outputs": [],
   "source": [
    "question = \"Please propose a hard, challenging question to assess someone's IQ. Respond only with the question.\"\n",
    "messages = [{\"role\": \"user\", \"content\": question}]"
   ]
  },
  {
   "cell_type": "code",
   "execution_count": 44,
   "id": "70c1e762",
   "metadata": {},
   "outputs": [
    {
     "name": "stdout",
     "output_type": "stream",
     "text": [
      "If a bat and a ball cost $1.10 in total, what is the price of the bat?\n",
      "\n"
     ]
    }
   ],
   "source": [
    "response = client.chat.completions.create(\n",
    "    model = \"google/gemma-3n-e2b-it:free\",\n",
    "    messages = messages\n",
    ")\n",
    "\n",
    "question = response.choices[0].message.content\n",
    "print(question)"
   ]
  },
  {
   "cell_type": "code",
   "execution_count": 45,
   "id": "52320082",
   "metadata": {},
   "outputs": [
    {
     "name": "stdout",
     "output_type": "stream",
     "text": [
      "This is a bit of a trick question!  The price of the bat and the ball is $1.10, but we don't know if the bat or the ball is cheaper.  \n",
      "\n",
      "If we assume the bat and ball are priced equally, then each one would cost $0.55.  However, it's possible the bat is worth more.\n",
      "\n",
      "**We can't determine the exact price of the bat without more information.** \n",
      "\n",
      "However, if we're forced to give an answer, we could assume they are the same price.  In that case, the bat would cost $\\boxed{$0.55}$.\n",
      "\n"
     ]
    }
   ],
   "source": [
    "response = client.chat.completions.create(\n",
    "    model = \"google/gemma-3n-e2b-it:free\",\n",
    "    messages = [{\"role\": \"user\", \"content\": question}]\n",
    ")\n",
    "\n",
    "answer = response.choices[0].message.content\n",
    "print(answer)"
   ]
  },
  {
   "cell_type": "code",
   "execution_count": 46,
   "id": "808eff31",
   "metadata": {},
   "outputs": [
    {
     "data": {
      "text/markdown": [
       "This is a bit of a trick question!  The price of the bat and the ball is $1.10, but we don't know if the bat or the ball is cheaper.  \n",
       "\n",
       "If we assume the bat and ball are priced equally, then each one would cost $0.55.  However, it's possible the bat is worth more.\n",
       "\n",
       "**We can't determine the exact price of the bat without more information.** \n",
       "\n",
       "However, if we're forced to give an answer, we could assume they are the same price.  In that case, the bat would cost $\\boxed{$0.55}$.\n"
      ],
      "text/plain": [
       "<IPython.core.display.Markdown object>"
      ]
     },
     "metadata": {},
     "output_type": "display_data"
    }
   ],
   "source": [
    "from IPython.display import Markdown, display\n",
    "\n",
    "display(Markdown(answer))"
   ]
  }
 ],
 "metadata": {
  "kernelspec": {
   "display_name": "agents",
   "language": "python",
   "name": "python3"
  },
  "language_info": {
   "codemirror_mode": {
    "name": "ipython",
    "version": 3
   },
   "file_extension": ".py",
   "mimetype": "text/x-python",
   "name": "python",
   "nbconvert_exporter": "python",
   "pygments_lexer": "ipython3",
   "version": "3.12.6"
  }
 },
 "nbformat": 4,
 "nbformat_minor": 5
}
