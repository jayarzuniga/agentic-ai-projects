{
 "cells": [
  {
   "cell_type": "code",
   "execution_count": null,
   "id": "d37aabc1",
   "metadata": {},
   "outputs": [],
   "source": [
    "from dotenv import load_dotenv\n",
    "from openai import OpenAI\n",
    "import os\n",
    "\n",
    "load_dotenv(override=True)\n",
    "\n",
    "gemini_api_key = os.getenv(\"GEMINI_API_KEY\")\n",
    "\n",
    "client = OpenAI(api_key=gemini_api_key, base_url=\"https://openrouter.ai/api/v1\")"
   ]
  },
  {
   "cell_type": "code",
   "execution_count": null,
   "id": "ab1611a7",
   "metadata": {},
   "outputs": [
    {
     "name": "stdout",
     "output_type": "stream",
     "text": [
      "{\n",
      "    \"Mars Exploration\": \"Mars is a red planet! Scientists send rovers and rockets to explore Mars to learn about its past and future. They look for water and signs of life.\",\n",
      "    \"Asteroids and Comets\": \"Asteroids and comets are rocky or icy space objects that orbit the Sun. Some are big and some are small. They can sometimes impact planets!\",\n",
      "    \"The Moon's Phases\": \"The Moon changes shape throughout the month. This is because the amount of sunlight reflecting off the Moon changes as it orbits Earth.\",\n",
      "    \"Jupiter's Great Red Spot\": \"Jupiter is a giant planet with a huge storm called the Great Red Spot. It's been raging for hundreds of years and is bigger than Earth!\",\n",
      "    \"Saturn's Rings\": \"Saturn has beautiful rings made of ice, rock, and dust. They are very bright and impressive to look at from Earth.\",\n",
      "    \"Venus: The Hottest Planet\": \"Venus is the hottest planet in our solar system. It has a thick atmosphere that traps heat, making it very hot.\"\n",
      "}\n",
      "\n"
     ]
    }
   ],
   "source": [
    "topic = \"solar system for kids to read\"\n",
    "\n",
    "workflow_1 = (\n",
    "    \"Provide a dictionary variable named 'climate_change_topics' that contains at least 5 topics \"\n",
    "    \"about current {topic}. Each key should be a topic name, and each value should be a short summary. \"\n",
    "    \"Respond with only the Python dictionary — no explanation, no code block, no formatting, just the raw variable.\"\n",
    ").format(topic=topic)\n",
    "\n",
    "\n",
    "messages = [{\"role\": \"user\", \"content\": workflow_1}]\n",
    "\n",
    "\n",
    "response = client.chat.completions.create(\n",
    "    model = \"google/gemma-3n-e2b-it:free\",\n",
    "    messages = messages\n",
    ")\n",
    "\n",
    "resp = response.choices[0].message.content\n",
    "\n",
    "print(resp)"
   ]
  },
  {
   "cell_type": "code",
   "execution_count": 22,
   "id": "795e168e",
   "metadata": {},
   "outputs": [
    {
     "name": "stdout",
     "output_type": "stream",
     "text": [
      "Topic 1: Mars Exploration\n",
      "Summary: Mars is a red planet! Scientists send rovers and rockets to explore Mars to learn about its past and future. They look for water and signs of life.\n",
      "\n",
      "Topic 2: Asteroids and Comets\n",
      "Summary: Asteroids and comets are rocky or icy space objects that orbit the Sun. Some are big and some are small. They can sometimes impact planets!\n",
      "\n",
      "Topic 3: The Moon's Phases\n",
      "Summary: The Moon changes shape throughout the month. This is because the amount of sunlight reflecting off the Moon changes as it orbits Earth.\n",
      "\n",
      "Topic 4: Jupiter's Great Red Spot\n",
      "Summary: Jupiter is a giant planet with a huge storm called the Great Red Spot. It's been raging for hundreds of years and is bigger than Earth!\n",
      "\n",
      "Topic 5: Saturn's Rings\n",
      "Summary: Saturn has beautiful rings made of ice, rock, and dust. They are very bright and impressive to look at from Earth.\n",
      "\n",
      "Topic 6: Venus: The Hottest Planet\n",
      "Summary: Venus is the hottest planet in our solar system. It has a thick atmosphere that traps heat, making it very hot.\n",
      "\n",
      "Jupiter's Great Red Spot\n",
      "Jupiter is a giant planet with a huge storm called the Great Red Spot. It's been raging for hundreds of years and is bigger than Earth!\n",
      "\n",
      " Generated Essay:\n",
      "\n",
      "## The Colossal Eye of Jupiter: Unveiling the Great Red Spot\n",
      "\n",
      "Jupiter, the solar system’s largest planet, is a marvel of swirling gases and colossal power. Among its many captivating features, the Great Red Spot stands out as an iconic symbol of the gas giant’s turbulent atmosphere. This persistent storm, a swirling vortex of wind, has been raging on Jupiter for at least 350 years, making it one of the most enduring and fascinating phenomena in the cosmos. \n",
      "\n",
      "The Great Red Spot isn't a simple cloud formation; it’s a powerful, anticyclonic storm roughly twice the size of Earth.  Scientists believe it originated centuries ago and has remained remarkably stable, a testament to the immense forces powering its evolution. While its exact cause remains under investigation, it is likely a result of complex interactions within Jupiter’s atmosphere.  Strong winds and powerful jet streams contribute to its persistent rotation and maintain its distinct red hue, likely caused by chemical reactions involving ammonia and phosphine. \n",
      "\n",
      "The visual spectacle of the Great Red Spot has captivated astronomers and the public alike.  Observations from telescopes dating back to the 17th century have documented its existence, leading to its moniker.  As we continue to explore deeper into the solar system, the Great Red Spot offers invaluable insights into the dynamics of gas giants and the powerful forces that shape planetary atmospheres. Studying this storm provides scientists with a crucial window into understanding weather patterns on worlds vastly different from our own, and perhaps even hints at the potential for similar phenomena elsewhere in the universe.  The Great Red Spot remains a constant reminder of the chaotic beauty and immense power found in the vast expanse of space.\n",
      "\n",
      "\n",
      "\n",
      "\n"
     ]
    }
   ],
   "source": [
    "import ast\n",
    "\n",
    "climate_change_topics = ast.literal_eval(resp)\n",
    "\n",
    "numbering = 1\n",
    "topic_keys = list(climate_change_topics.keys())  \n",
    "\n",
    "for topic in topic_keys:\n",
    "    print(f\"Topic {numbering}: {topic}\")\n",
    "    print(f\"Summary: {climate_change_topics[topic]}\\n\")\n",
    "    numbering += 1\n",
    "\n",
    "while True:\n",
    "    try:\n",
    "        user_selection = int(input(f\"Select 1 topic that you want to create a 300-word essay on (1 - {len(topic_keys)}): \"))\n",
    "\n",
    "        if 1 <= user_selection <= len(topic_keys):\n",
    "\n",
    "            selected_topic = topic_keys[user_selection - 1]\n",
    "            print(selected_topic)\n",
    "            selected_summary = climate_change_topics[selected_topic]\n",
    "            print(selected_summary)\n",
    "\n",
    "            essay_creation_message = [{\"role\": \"user\", \"content\": f\"Write a 300-word essay about: {selected_topic}. With this summary: {selected_summary}\"}]\n",
    "\n",
    "            def create_essay():\n",
    "                response = client.chat.completions.create(\n",
    "                    model=\"google/gemma-3n-e2b-it:free\",\n",
    "                    messages=essay_creation_message\n",
    "                )\n",
    "                print(\"\\n Generated Essay:\\n\")\n",
    "                print(response.choices[0].message.content)\n",
    "\n",
    "            create_essay()\n",
    "            break\n",
    "        else:\n",
    "            print(f\"Invalid number. Please select a number from 1 - {len(topic_keys)}.\")\n",
    "            \n",
    "    except ValueError:\n",
    "        print(\"Invalid input. Please enter a number.\")\n"
   ]
  }
 ],
 "metadata": {
  "kernelspec": {
   "display_name": "agents",
   "language": "python",
   "name": "python3"
  },
  "language_info": {
   "codemirror_mode": {
    "name": "ipython",
    "version": 3
   },
   "file_extension": ".py",
   "mimetype": "text/x-python",
   "name": "python",
   "nbconvert_exporter": "python",
   "pygments_lexer": "ipython3",
   "version": "3.12.6"
  }
 },
 "nbformat": 4,
 "nbformat_minor": 5
}
