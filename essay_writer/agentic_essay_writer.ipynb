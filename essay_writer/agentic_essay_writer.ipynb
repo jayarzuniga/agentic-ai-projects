{
 "cells": [
  {
   "cell_type": "code",
   "execution_count": 2,
   "id": "d37aabc1",
   "metadata": {},
   "outputs": [],
   "source": [
    "from dotenv import load_dotenv\n",
    "from openai import OpenAI\n",
    "import os\n",
    "\n",
    "\n",
    "load_dotenv(override=True)\n",
    "\n",
    "gemini_api_key = os.getenv(\"GEMINI_API_KEY\")\n",
    "\n",
    "client = OpenAI(api_key=gemini_api_key, base_url=\"https://openrouter.ai/api/v1\")"
   ]
  },
  {
   "cell_type": "code",
   "execution_count": 12,
   "id": "ab1611a7",
   "metadata": {},
   "outputs": [
    {
     "name": "stdout",
     "output_type": "stream",
     "text": [
      "{\n",
      "    \"Global Warming\": \"The long-term increase in Earth's average temperature, primarily driven by human activities like burning fossil fuels.\",\n",
      "    \"Extreme Weather Events\": \"Increased frequency and intensity of events like hurricanes, floods, droughts, and wildfires linked to climate change.\",\n",
      "    \"Sea Level Rise\": \"The gradual increase in sea levels due to melting glaciers and thermal expansion of water, threatening coastal communities.\",\n",
      "    \"Ocean Acidification\": \"The absorption of excess carbon dioxide by the oceans, leading to a decrease in pH and harming marine life.\",\n",
      "    \"Biodiversity Loss\": \"Climate change is disrupting ecosystems, leading to habitat loss and the extinction of plant and animal species.\",\n",
      "    \"Agricultural Impacts\": \"Changes in temperature and precipitation patterns affect crop yields, food security, and agricultural practices.\"\n",
      "}\n",
      "\n"
     ]
    }
   ],
   "source": [
    "workflow_1 = (\n",
    "    \"Provide a dictionary variable named 'climate_change_topics' that contains at least 5 topics \"\n",
    "    \"about current climate change problems. Each key should be a topic name, and each value should be a short summary. \"\n",
    "    \"Respond with only the Python dictionary — no explanation, no code block, no formatting, just the raw variable.\"\n",
    ")\n",
    "\n",
    "\n",
    "messages = [{\"role\": \"user\", \"content\": workflow_1}]\n",
    "\n",
    "\n",
    "response = client.chat.completions.create(\n",
    "    model = \"google/gemma-3n-e2b-it:free\",\n",
    "    messages = messages\n",
    ")\n",
    "\n",
    "resp = response.choices[0].message.content\n",
    "\n",
    "print(resp)"
   ]
  },
  {
   "cell_type": "code",
   "execution_count": 18,
   "id": "795e168e",
   "metadata": {},
   "outputs": [
    {
     "name": "stdout",
     "output_type": "stream",
     "text": [
      "Topic 1: Global Warming\n",
      "Summary: The long-term increase in Earth's average temperature, primarily driven by human activities like burning fossil fuels.\n",
      "\n",
      "Topic 2: Extreme Weather Events\n",
      "Summary: Increased frequency and intensity of events like hurricanes, floods, droughts, and wildfires linked to climate change.\n",
      "\n",
      "Topic 3: Sea Level Rise\n",
      "Summary: The gradual increase in sea levels due to melting glaciers and thermal expansion of water, threatening coastal communities.\n",
      "\n",
      "Topic 4: Ocean Acidification\n",
      "Summary: The absorption of excess carbon dioxide by the oceans, leading to a decrease in pH and harming marine life.\n",
      "\n",
      "Topic 5: Biodiversity Loss\n",
      "Summary: Climate change is disrupting ecosystems, leading to habitat loss and the extinction of plant and animal species.\n",
      "\n",
      "Topic 6: Agricultural Impacts\n",
      "Summary: Changes in temperature and precipitation patterns affect crop yields, food security, and agricultural practices.\n",
      "\n",
      "Sea Level Rise\n",
      "The gradual increase in sea levels due to melting glaciers and thermal expansion of water, threatening coastal communities.\n",
      "\n",
      " Generated Essay:\n",
      "\n",
      "## The Rising Tide: Understanding the Threat of Sea Level Rise\n",
      "\n",
      "One of the most pressing environmental challenges of our time is the escalating issue of sea level rise. This isn't a distant threat; its impacts are already being felt globally, and the consequences are projected to worsen dramatically in the coming decades. Driven by complex factors, including the melting of glaciers and the thermal expansion of water, sea level rise presents a significant and multifaceted threat to coastal communities worldwide.\n",
      "\n",
      "The primary contributor to this rise is the warming planet. As global temperatures increase, glaciers and ice sheets are melting at an alarming rate, releasing vast quantities of freshwater into the oceans. Simultaneously, as ocean water warms, it expands, taking up more volume. This combination of factors is causing the sea level to steadily climb.\n",
      "\n",
      "The consequences of this rise are far-reaching and devastating. Coastal communities, many of which are densely populated and economically vital, face increased risks of flooding, erosion, and saltwater intrusion. Low-lying islands and coastal cities are particularly vulnerable, threatened by permanent inundation.  Infrastructure, including roads, power plants, and water treatment facilities, is at risk of damage and disruption. \n",
      "\n",
      "Beyond the immediate physical impacts, sea level rise exacerbates existing vulnerabilities.  It weakens natural defenses like mangroves and coral reefs, which traditionally buffer coastlines from storm surges.  Increased flooding also leads to displacement of populations, straining resources and potentially triggering conflicts. \n",
      "\n",
      "Addressing sea level rise requires a multi-pronged approach.  Mitigating climate change through reducing greenhouse gas emissions is paramount.  In addition, adaptation strategies like building seawalls, restoring coastal wetlands, and relocating vulnerable communities are crucial to managing the unavoidable consequences. Failure to act decisively will leave coastal populations facing an increasingly precarious future, highlighting the urgency of global cooperation and sustainable practices.\n",
      "\n",
      "\n",
      "\n",
      "\n"
     ]
    }
   ],
   "source": [
    "import ast\n",
    "\n",
    "climate_change_topics = ast.literal_eval(resp)\n",
    "\n",
    "numbering = 1\n",
    "topic_keys = list(climate_change_topics.keys())  \n",
    "\n",
    "for topic in topic_keys:\n",
    "    print(f\"Topic {numbering}: {topic}\")\n",
    "    print(f\"Summary: {climate_change_topics[topic]}\\n\")\n",
    "    numbering += 1\n",
    "\n",
    "while True:\n",
    "    try:\n",
    "        user_selection = int(input(f\"Select 1 topic that you want to create a 300-word essay on (1 - {len(topic_keys)}): \"))\n",
    "\n",
    "        if 1 <= user_selection <= len(topic_keys):\n",
    "\n",
    "            selected_topic = topic_keys[user_selection - 1]\n",
    "            print(selected_topic)\n",
    "            selected_summary = climate_change_topics[selected_topic]\n",
    "            print(selected_summary)\n",
    "\n",
    "            essay_creation_message = [{\"role\": \"user\", \"content\": f\"Write a 300-word essay about: {selected_topic}. With this summary: {selected_summary}\"}]\n",
    "\n",
    "            def create_essay():\n",
    "                response = client.chat.completions.create(\n",
    "                    model=\"google/gemma-3n-e2b-it:free\",\n",
    "                    messages=essay_creation_message\n",
    "                )\n",
    "                print(\"\\n Generated Essay:\\n\")\n",
    "                print(response.choices[0].message.content)\n",
    "\n",
    "            create_essay()\n",
    "            break\n",
    "        else:\n",
    "            print(f\"Invalid number. Please select a number from 1 - {len(topic_keys)}.\")\n",
    "            \n",
    "    except ValueError:\n",
    "        print(\"Invalid input. Please enter a number.\")\n"
   ]
  }
 ],
 "metadata": {
  "kernelspec": {
   "display_name": "agents",
   "language": "python",
   "name": "python3"
  },
  "language_info": {
   "codemirror_mode": {
    "name": "ipython",
    "version": 3
   },
   "file_extension": ".py",
   "mimetype": "text/x-python",
   "name": "python",
   "nbconvert_exporter": "python",
   "pygments_lexer": "ipython3",
   "version": "3.12.6"
  }
 },
 "nbformat": 4,
 "nbformat_minor": 5
}
