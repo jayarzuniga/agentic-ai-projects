{
 "cells": [
  {
   "cell_type": "markdown",
   "id": "87dac192",
   "metadata": {},
   "source": [
    "**Automated Sales Outreach**\n",
    "\n",
    "*What this will be:*\n",
    "\n",
    "A workflow of Agent call\n",
    "\n",
    "An agent that can use tool\n",
    "\n",
    "An agent that can call on other agents tools and, Vs Handoffs\n"
   ]
  },
  {
   "cell_type": "code",
   "execution_count": 3,
   "id": "5e6d9933",
   "metadata": {},
   "outputs": [],
   "source": [
    "from dotenv import load_dotenv\n",
    "from agents import Agent, Runner, trace, function_tool, OpenAIChatCompletionsModel\n",
    "from openai.types.responses import ResponseTextDeltaEvent\n",
    "from openai import AsyncOpenAI\n",
    "from typing import Dict\n",
    "import brevo_python\n",
    "import os\n",
    "from brevo_python.rest import ApiException\n",
    "from brevo_python import SendSmtpEmail, ApiClient, Configuration, TransactionalEmailsApi\n",
    "import logging\n",
    "import asyncio\n",
    "\n"
   ]
  },
  {
   "cell_type": "code",
   "execution_count": 4,
   "id": "404f4fef",
   "metadata": {},
   "outputs": [],
   "source": [
    "configuration = brevo_python.Configuration()\n",
    "configuration.api_key['api-key'] = os.getenv(\"BREVO_API_KEY\")\n",
    "\n",
    "api_instance = brevo_python.AccountApi(brevo_python.ApiClient(configuration))"
   ]
  },
  {
   "cell_type": "code",
   "execution_count": 4,
   "id": "d4afb928",
   "metadata": {},
   "outputs": [],
   "source": [
    "def send_test_email(to_email, subject, html_content, sender_email=\"jhayar.zuniga004@gmail.com\", sender_name=\"Jay Test\"):\n",
    "    config = Configuration()\n",
    "    config.api_key['api-key'] = os.getenv(\"BREVO_API_KEY\")\n",
    "\n",
    "    api_client = ApiClient(configuration=config)\n",
    "    api_instance = TransactionalEmailsApi(api_client)\n",
    "\n",
    "    email = SendSmtpEmail(\n",
    "        to=[{\"email\": to_email}],\n",
    "        sender={\"email\": sender_email, \"name\": sender_name},\n",
    "        subject=subject,\n",
    "        html_content=html_content,\n",
    "    )\n",
    "\n",
    "    try:\n",
    "        response = api_instance.send_transac_email(email)\n",
    "        print(\"✅ Email sent! Message ID:\", response.message_id)\n",
    "    except ApiException as e:\n",
    "        print(\"❌ Exception when sending email:\", e)"
   ]
  },
  {
   "cell_type": "code",
   "execution_count": 32,
   "id": "a490cf11",
   "metadata": {},
   "outputs": [
    {
     "name": "stdout",
     "output_type": "stream",
     "text": [
      "✅ Email sent! Message ID: <202507220747.76666306187@smtp-relay.mailin.fr>\n"
     ]
    }
   ],
   "source": [
    "send_test_email(\n",
    "    to_email=\"jhayar.zuniga@gmail.com\",\n",
    "    subject=\"Test Email Subject\",\n",
    "    html_content=\"<p>This is a test email sent using Brevo API.</p>\",\n",
    ")"
   ]
  },
  {
   "cell_type": "code",
   "execution_count": 6,
   "id": "1d0e2480",
   "metadata": {},
   "outputs": [],
   "source": [
    "instructions1 = \"You are a sales agent working for ComplAI, \\\n",
    "a company that provides a SaaS tool for ensuring SOC2 compliance and preparing for audits, powered by AI. \\\n",
    "You write professional, serious cold emails.\"\n",
    "\n",
    "instructions2 = \"You are a humorous, engaging sales agent working for ComplAI, \\\n",
    "a company that provides a SaaS tool for ensuring SOC2 compliance and preparing for audits, powered by AI. \\\n",
    "You write witty, engaging cold emails that are likely to get a response.\"\n",
    "\n",
    "instructions3 = \"You are a busy sales agent working for ComplAI, \\\n",
    "a company that provides a SaaS tool for ensuring SOC2 compliance and preparing for audits, powered by AI. \\\n",
    "You write concise, to the point cold emails.\""
   ]
  },
  {
   "cell_type": "code",
   "execution_count": 7,
   "id": "76bf8adc",
   "metadata": {},
   "outputs": [],
   "source": [
    "deepseek_api_key = os.getenv(\"DEEPSEEK_API_KEY\")\n",
    "DEEPSEEK_BASE_URL = \"https://api.deepseek.com\"\n",
    "\n",
    "deepseek_client=AsyncOpenAI(\n",
    "    base_url=DEEPSEEK_BASE_URL,\n",
    "    api_key=deepseek_api_key\n",
    ")\n",
    "deepseek_model=OpenAIChatCompletionsModel(\n",
    "    model=\"deepseek-chat\",\n",
    "    openai_client=deepseek_client\n",
    ")\n",
    "\n",
    "\n",
    "sales_agent1 = Agent(\n",
    "        name=\"Professional Sales Agent\",\n",
    "        instructions=instructions1,\n",
    "        model=deepseek_model\n",
    ")\n",
    "\n",
    "sales_agent2 = Agent(\n",
    "        name=\"Engaging Sales Agent\",\n",
    "        instructions=instructions2,\n",
    "        model=deepseek_model\n",
    ")\n",
    "\n",
    "sales_agent3 = Agent(\n",
    "        name=\"Busy Sales Agent\",\n",
    "        instructions=instructions3,\n",
    "        model=deepseek_model\n",
    ")"
   ]
  },
  {
   "cell_type": "code",
   "execution_count": 7,
   "id": "ebdd0fcd",
   "metadata": {},
   "outputs": [
    {
     "name": "stdout",
     "output_type": "stream",
     "text": [
      "**Subject:** Simplify SOC2 Compliance with AI-Powered Automation  \n",
      "\n",
      "Hi [First Name],  \n",
      "\n",
      "I hope this email finds you well. I wanted to reach out because I know how time-consuming and complex SOC2 compliance can be—especially when preparing for audits.  \n",
      "\n",
      "At ComplAI, we’ve built an AI-powered SaaS platform that automates SOC2 compliance, saving teams like yours countless hours and reducing the stress of audit prep. Our solution helps you:  \n",
      "- **Streamline evidence collection** with AI-driven workflows  \n",
      "- **Identify and close compliance gaps** proactively  \n",
      "- **Generate audit-ready reports** in minutes, not weeks  \n",
      "\n",
      "I’d love to show you how ComplAI can simplify your compliance process. Would you be open to a quick 15-minute demo to see it in action?  \n",
      "\n",
      "Let me know a time that works for you, or feel free to reply with any questions.  \n",
      "\n",
      "Best regards,  \n",
      "[Your Full Name]  \n",
      "[Your Job Title]  \n",
      "ComplAI  \n",
      "[Your Email] | [Your Phone Number]  \n",
      "[Website URL]  \n",
      "\n",
      "P.S. Many of our customers cut their compliance workload by 50% or more—let me show you how we can do the same for your team.  \n",
      "\n",
      "---  \n",
      "**Why this works:**  \n",
      "- **Personalized** – Tailor the intro with their name/company if possible.  \n",
      "- **Problem-focused** – Highlights a pain point (time-consuming compliance).  \n",
      "- **Clear value** – Bullet points make benefits easy to scan.  \n",
      "- **Low-pressure CTA** – A short demo is an easy \"yes.\"  \n",
      "- **Social proof** – The PS implies credibility without being pushy.  \n",
      "\n",
      "Adjust based on your prospect’s role (e.g., mention \"reducing engineering overhead\" for DevOps/security leads)."
     ]
    }
   ],
   "source": [
    "result = Runner.run_streamed(sales_agent1, input=\"Write a cold sales email\")\n",
    "async for event in result.stream_events():\n",
    "    if event.type == \"raw_response_event\" and isinstance(event.data, ResponseTextDeltaEvent):\n",
    "        print(event.data.delta, end=\"\", flush=True)"
   ]
  },
  {
   "cell_type": "code",
   "execution_count": 9,
   "id": "7e55c080",
   "metadata": {},
   "outputs": [
    {
     "name": "stdout",
     "output_type": "stream",
     "text": [
      "**Subject:** Simplify SOC2 Compliance with AI-Powered Automation  \n",
      "\n",
      "Hi [First Name],  \n",
      "\n",
      "I hope this email finds you well. I’m reaching out because I know how time-consuming and complex SOC2 compliance can be—especially when preparing for audits. Manual processes, scattered documentation, and last-minute scrambles can turn compliance into a major headache.  \n",
      "\n",
      "At ComplAI, we’ve built an AI-powered SaaS platform that automates SOC2 compliance, saving teams like yours hundreds of hours while ensuring audit readiness. Our solution helps you:  \n",
      "\n",
      "- **Automate evidence collection** – No more chasing down teams for documentation.  \n",
      "- **Close compliance gaps proactively** – AI identifies risks before they become audit issues.  \n",
      "- **Streamline audit prep** – Generate audit-ready reports in minutes, not weeks.  \n",
      "\n",
      "Companies using ComplAI have cut their compliance workload by 60% and passed audits with confidence. I’d love to show you how we can simplify your SOC2 journey—would you be open to a quick 15-minute demo?  \n",
      "\n",
      "Let me know a time that works for you, or feel free to reply with any questions.  \n",
      "\n",
      "Best regards,  \n",
      "[Your Full Name]  \n",
      "[Your Job Title]  \n",
      "ComplAI  \n",
      "[Your Email] | [Your Phone Number]  \n",
      "[Website URL]  \n",
      "\n",
      "**P.S.** If now isn’t the right time, we also offer a free compliance health check—just reply “health check” and I’ll send you the details.  \n",
      "\n",
      "---  \n",
      "*Why ComplAI?*  \n",
      "✅ AI-driven automation reduces manual work  \n",
      "✅ Built by compliance experts for technical teams  \n",
      "✅ Trusted by fast-growing SaaS companies\n",
      "\n",
      "\n",
      "**Subject:** SOC2 Compliance: Because Nobody Likes Surprises (Except Birthday Parties)  \n",
      "\n",
      "Hi [First Name],  \n",
      "\n",
      "Let’s be honest—SOC2 compliance is about as fun as untangling Christmas lights. But here’s the good news: **ComplAI** makes it as easy as hitting \"Ctrl+C, Ctrl+V\" (but way more compliant).  \n",
      "\n",
      "Our AI-powered SaaS tool helps you:  \n",
      "✅ **Automate** evidence collection (no more herding spreadsheets)  \n",
      "✅ **Prep for audits** like a pro (minus the stress sweats)  \n",
      "✅ **Stay compliant** without hiring a team of lawyers (or sacrificing your sanity)  \n",
      "\n",
      "We’ve helped companies like [Similar Company] breeze through audits in half the time. Want to see how we can do the same for you?  \n",
      "\n",
      "Let’s chat—I promise, no compliance jargon or awkward sales pitches. Just 15 minutes to show you how we can turn \"SOC2 nightmare\" into \"SOC2… meh, no big deal.\"  \n",
      "\n",
      "[Schedule a quick demo] or reply with your favorite emoji (we accept � as a yes).  \n",
      "\n",
      "Cheers,  \n",
      "[Your Name]  \n",
      "[Your Title]  \n",
      "ComplAI  \n",
      "[Your Email] | [Your Phone]  \n",
      "[Website]  \n",
      "\n",
      "P.S. If you’re *not* the right person for this, just tell me who is—I’ll bribe them with [coffee/gifs/dad jokes].  \n",
      "\n",
      "---  \n",
      "**Why this works:**  \n",
      "- **Humorous hook** grabs attention without being gimmicky.  \n",
      "- **Clear value**—positions ComplAI as the easy button for SOC2.  \n",
      "- **Low-pressure CTA** (emoji or demo link).  \n",
      "- **PS** adds a human touch and a path forward if they’re not the decision-maker.  \n",
      "\n",
      "Want it shorter? Funnier? Let me know—I’ve got versions for every vibe. 🚀\n",
      "\n",
      "\n",
      "**Subject:** Simplify SOC2 Compliance with AI  \n",
      "\n",
      "Hi [First Name],  \n",
      "\n",
      "I know how overwhelming SOC2 compliance can be—endless documentation, manual processes, and audit prep eating up your team’s time.  \n",
      "\n",
      "ComplAI automates 80% of the work with AI, helping you:  \n",
      "✔️ Generate policies and evidence in minutes  \n",
      "✔️ Continuously monitor controls  \n",
      "✔️ Pass audits with confidence  \n",
      "\n",
      "We’ve helped companies like [Similar Company] cut compliance time in half. Could we save you time and headaches too?  \n",
      "\n",
      "Let’s chat—I’d love to show you a quick demo.  \n",
      "\n",
      "Best,  \n",
      "[Your Name]  \n",
      "[Your Title] | ComplAI  \n",
      "[Your Email] | [Your Phone]  \n",
      "[Website Link]  \n",
      "\n",
      "**P.S.** Free SOC2 readiness checklist if you’re curious—just reply!  \n",
      "\n",
      "Short, value-driven, and actionable. Adjust based on your ideal customer profile!\n",
      "\n",
      "\n"
     ]
    }
   ],
   "source": [
    "\n",
    "\n",
    "message = \"Write a cold sales email\"\n",
    "\n",
    "with trace(\"Parallel cold emails\"):\n",
    "    results = await asyncio.gather(\n",
    "        Runner.run(sales_agent1, message),\n",
    "        Runner.run(sales_agent2, message),\n",
    "        Runner.run(sales_agent3, message),\n",
    "    )\n",
    "\n",
    "outputs = [result.final_output for result in results]\n",
    "\n",
    "for output in outputs:\n",
    "    print(output + \"\\n\\n\")"
   ]
  },
  {
   "cell_type": "code",
   "execution_count": 14,
   "id": "0798f8a5",
   "metadata": {},
   "outputs": [],
   "source": [
    "sales_picker = Agent(\n",
    "    name=\"sales_picker\",\n",
    "    instructions=\"You pick the best cold sales email from the given options. \\\n",
    "Imagine you are a customer and pick the one you are most likely to respond to. \\\n",
    "Do not give an explanation; reply with just the selected email only.\",\n",
    "    model=deepseek_model\n",
    ")"
   ]
  },
  {
   "cell_type": "code",
   "execution_count": 15,
   "id": "4037229e",
   "metadata": {},
   "outputs": [
    {
     "name": "stdout",
     "output_type": "stream",
     "text": [
      "Best sales email:\n",
      "**Subject:** Simplify SOC2 Compliance with AI-Powered Automation  \n",
      "\n",
      "Hi [First Name],  \n",
      "\n",
      "Ensuring SOC2 compliance can be a complex, time-consuming process—especially when preparing for audits. At ComplAI, we’ve built an AI-driven SaaS solution that automates compliance workflows, reduces manual effort, and helps you stay audit-ready year-round.  \n",
      "\n",
      "Our platform enables you to:  \n",
      "- **Automate evidence collection** and documentation  \n",
      "- **Identify and close compliance gaps** proactively  \n",
      "- **Streamline audit preparation** with real-time monitoring  \n",
      "\n",
      "I’d love to show you how ComplAI can save your team hours of work while reducing compliance risks. Are you available for a quick 15-minute demo next week?  \n",
      "\n",
      "Best regards,  \n",
      "[Your Name]  \n",
      "[Your Position]  \n",
      "ComplAI  \n",
      "[Your Email] | [Your Phone]  \n",
      "[Website URL]  \n",
      "\n",
      "P.S. Many companies cut their compliance prep time by 50% or more—let’s discuss how we can do the same for you.\n"
     ]
    }
   ],
   "source": [
    "message = \"Write a cold sales email without explanations\"\n",
    "\n",
    "with trace(\"Selection from sales people\"):\n",
    "    results = await asyncio.gather(\n",
    "        Runner.run(sales_agent1, message),\n",
    "        Runner.run(sales_agent2, message),\n",
    "        Runner.run(sales_agent3, message),\n",
    "    )\n",
    "    outputs = [result.final_output for result in results]\n",
    "\n",
    "    emails = \"Cold sales emails:\\n\\n\".join(outputs)\n",
    "\n",
    "    best = await Runner.run(sales_picker, emails)\n",
    "\n",
    "    print(f\"Best sales email:\\n{best.final_output}\")"
   ]
  },
  {
   "cell_type": "code",
   "execution_count": null,
   "id": "b79da2fd",
   "metadata": {},
   "outputs": [],
   "source": [
    "sales_agent1 = Agent(\n",
    "        name=\"Professional Sales Agent\",\n",
    "        instructions=instructions1,\n",
    "        model=deepseek_model,\n",
    ")\n",
    "\n",
    "sales_agent2 = Agent(\n",
    "        name=\"Engaging Sales Agent\",\n",
    "        instructions=instructions2,\n",
    "        model=deepseek_model,\n",
    ")\n",
    "\n",
    "sales_agent3 = Agent(\n",
    "        name=\"Busy Sales Agent\",\n",
    "        instructions=instructions3,\n",
    "        model=deepseek_model,\n",
    ")"
   ]
  },
  {
   "cell_type": "code",
   "execution_count": 24,
   "id": "056a74cb",
   "metadata": {},
   "outputs": [],
   "source": [
    "# @function_tool\n",
    "# def send_email(body: str):\n",
    "#     \"\"\" Send out an email with the given body to all sales prospects \"\"\"\n",
    "#     sg = sendgrid.SendGridAPIClient(api_key=os.environ.get('SENDGRID_API_KEY'))\n",
    "#     from_email = Email(\"ed@edwarddonner.com\")  # Change to your verified sender\n",
    "#     to_email = To(\"ed.donner@gmail.com\")  # Change to your recipient\n",
    "#     content = Content(\"text/plain\", body)\n",
    "#     mail = Mail(from_email, to_email, \"Sales email\", content).get()\n",
    "#     sg.client.mail.send.post(request_body=mail)\n",
    "#     return {\"status\": \"success\"}\n",
    "\n",
    "@function_tool\n",
    "def send_email(body: str):\n",
    "    \"\"\" Send out an email with the given body to all sales prospects \"\"\"\n",
    "    config = Configuration()\n",
    "    config.api_key['api-key'] = os.getenv(\"BREVO_API_KEY\")\n",
    "\n",
    "    api_client = ApiClient(configuration=config)\n",
    "    api_instance = TransactionalEmailsApi(api_client)\n",
    "\n",
    "    email = SendSmtpEmail(\n",
    "        to=[{\"email\": \"jhayar.zuniga@gmail.com\"}],\n",
    "        sender={\"email\": \"jhayar.zuniga004@gmail.com\", \"name\": \"Jay Z\"},\n",
    "        subject=\"Sales Agent SOC1\",\n",
    "        html_content= body,\n",
    "    )\n",
    "\n",
    "    try:\n",
    "        response = api_instance.send_transac_email(email)\n",
    "        print(\"✅ Email sent! Message ID:\", response.message_id)\n",
    "    except ApiException as e:\n",
    "        print(\"❌ Exception when sending email:\", e)"
   ]
  },
  {
   "cell_type": "code",
   "execution_count": 25,
   "id": "f8dd506e",
   "metadata": {},
   "outputs": [
    {
     "data": {
      "text/plain": [
       "FunctionTool(name='send_email', description='Send out an email with the given body to all sales prospects', params_json_schema={'properties': {'body': {'title': 'Body', 'type': 'string'}}, 'required': ['body'], 'title': 'send_email_args', 'type': 'object', 'additionalProperties': False}, on_invoke_tool=<function function_tool.<locals>._create_function_tool.<locals>._on_invoke_tool at 0x0000026AF7CC4E00>, strict_json_schema=True, is_enabled=True)"
      ]
     },
     "execution_count": 25,
     "metadata": {},
     "output_type": "execute_result"
    }
   ],
   "source": [
    "send_email"
   ]
  },
  {
   "cell_type": "markdown",
   "id": "7564c5ca",
   "metadata": {},
   "source": [
    "TOOLS"
   ]
  },
  {
   "cell_type": "code",
   "execution_count": 26,
   "id": "13d1fe06",
   "metadata": {},
   "outputs": [
    {
     "data": {
      "text/plain": [
       "FunctionTool(name='sales_agent1', description='Write a cold sales email', params_json_schema={'properties': {'input': {'title': 'Input', 'type': 'string'}}, 'required': ['input'], 'title': 'sales_agent1_args', 'type': 'object', 'additionalProperties': False}, on_invoke_tool=<function function_tool.<locals>._create_function_tool.<locals>._on_invoke_tool at 0x0000026AF9C0D580>, strict_json_schema=True, is_enabled=True)"
      ]
     },
     "execution_count": 26,
     "metadata": {},
     "output_type": "execute_result"
    }
   ],
   "source": [
    "tool1 = sales_agent1.as_tool(tool_name=\"sales_agent1\", tool_description=\"Write a cold sales email\")\n",
    "tool1"
   ]
  },
  {
   "cell_type": "code",
   "execution_count": 17,
   "id": "31b932b1",
   "metadata": {},
   "outputs": [
    {
     "data": {
      "text/plain": [
       "[FunctionTool(name='sales_agent1', description='Write a cold sales email', params_json_schema={'properties': {'input': {'title': 'Input', 'type': 'string'}}, 'required': ['input'], 'title': 'sales_agent1_args', 'type': 'object', 'additionalProperties': False}, on_invoke_tool=<function function_tool.<locals>._create_function_tool.<locals>._on_invoke_tool at 0x0000011F2AA82700>, strict_json_schema=True, is_enabled=True),\n",
       " FunctionTool(name='sales_agent2', description='Write a cold sales email', params_json_schema={'properties': {'input': {'title': 'Input', 'type': 'string'}}, 'required': ['input'], 'title': 'sales_agent2_args', 'type': 'object', 'additionalProperties': False}, on_invoke_tool=<function function_tool.<locals>._create_function_tool.<locals>._on_invoke_tool at 0x0000011F2AA81440>, strict_json_schema=True, is_enabled=True),\n",
       " FunctionTool(name='sales_agent3', description='Write a cold sales email', params_json_schema={'properties': {'input': {'title': 'Input', 'type': 'string'}}, 'required': ['input'], 'title': 'sales_agent3_args', 'type': 'object', 'additionalProperties': False}, on_invoke_tool=<function function_tool.<locals>._create_function_tool.<locals>._on_invoke_tool at 0x0000011F2AA82160>, strict_json_schema=True, is_enabled=True),\n",
       " FunctionTool(name='send_email', description='Send out an email with the given body to all sales prospects', params_json_schema={'properties': {'subject': {'title': 'Subject', 'type': 'string'}, 'body': {'title': 'Body', 'type': 'string'}}, 'required': ['subject', 'body'], 'title': 'send_email_args', 'type': 'object', 'additionalProperties': False}, on_invoke_tool=<function function_tool.<locals>._create_function_tool.<locals>._on_invoke_tool at 0x0000011F2AA81620>, strict_json_schema=True, is_enabled=True)]"
      ]
     },
     "execution_count": 17,
     "metadata": {},
     "output_type": "execute_result"
    }
   ],
   "source": [
    "description = \"Write a cold sales email\"\n",
    "\n",
    "tool1 = sales_agent1.as_tool(tool_name=\"sales_agent1\", tool_description=description)\n",
    "tool2 = sales_agent2.as_tool(tool_name=\"sales_agent2\", tool_description=description)\n",
    "tool3 = sales_agent3.as_tool(tool_name=\"sales_agent3\", tool_description=description)\n",
    "\n",
    "tools = [tool1, tool2, tool3, send_email]\n",
    "\n",
    "tools"
   ]
  },
  {
   "cell_type": "code",
   "execution_count": null,
   "id": "3397201a",
   "metadata": {},
   "outputs": [
    {
     "name": "stderr",
     "output_type": "stream",
     "text": [
      "Error getting response: Error code: 429 - {'error': {'message': 'You exceeded your current quota, please check your plan and billing details. For more information on this error, read the docs: https://platform.openai.com/docs/guides/error-codes/api-errors.', 'type': 'insufficient_quota', 'param': None, 'code': 'insufficient_quota'}}. (request_id: req_c9082c5192b5a12c3ccd13c7aee0347c)\n"
     ]
    },
    {
     "ename": "RateLimitError",
     "evalue": "Error code: 429 - {'error': {'message': 'You exceeded your current quota, please check your plan and billing details. For more information on this error, read the docs: https://platform.openai.com/docs/guides/error-codes/api-errors.', 'type': 'insufficient_quota', 'param': None, 'code': 'insufficient_quota'}}",
     "output_type": "error",
     "traceback": [
      "\u001b[31m---------------------------------------------------------------------------\u001b[39m",
      "\u001b[31mRateLimitError\u001b[39m                            Traceback (most recent call last)",
      "\u001b[36mCell\u001b[39m\u001b[36m \u001b[39m\u001b[32mIn[30]\u001b[39m\u001b[32m, line 12\u001b[39m\n\u001b[32m      9\u001b[39m message = \u001b[33m\"\u001b[39m\u001b[33mSend a cold sales email addressed to \u001b[39m\u001b[33m'\u001b[39m\u001b[33mDear CEO\u001b[39m\u001b[33m'\u001b[39m\u001b[33m\"\u001b[39m\n\u001b[32m     11\u001b[39m \u001b[38;5;28;01mwith\u001b[39;00m trace(\u001b[33m\"\u001b[39m\u001b[33mSales manager\u001b[39m\u001b[33m\"\u001b[39m):\n\u001b[32m---> \u001b[39m\u001b[32m12\u001b[39m     result = \u001b[38;5;28;01mawait\u001b[39;00m Runner.run(sales_manager, message)\n",
      "\u001b[36mFile \u001b[39m\u001b[32mc:\\Users\\Jay-R\\Desktop\\agentic-ai-projects\\.venv\\Lib\\site-packages\\agents\\run.py:200\u001b[39m, in \u001b[36mRunner.run\u001b[39m\u001b[34m(cls, starting_agent, input, context, max_turns, hooks, run_config, previous_response_id)\u001b[39m\n\u001b[32m    173\u001b[39m \u001b[38;5;250m\u001b[39m\u001b[33;03m\"\"\"Run a workflow starting at the given agent. The agent will run in a loop until a final\u001b[39;00m\n\u001b[32m    174\u001b[39m \u001b[33;03moutput is generated. The loop runs like so:\u001b[39;00m\n\u001b[32m    175\u001b[39m \u001b[33;03m1. The agent is invoked with the given input.\u001b[39;00m\n\u001b[32m   (...)\u001b[39m\u001b[32m    197\u001b[39m \u001b[33;03m    agent. Agents may perform handoffs, so we don't know the specific type of the output.\u001b[39;00m\n\u001b[32m    198\u001b[39m \u001b[33;03m\"\"\"\u001b[39;00m\n\u001b[32m    199\u001b[39m runner = DEFAULT_AGENT_RUNNER\n\u001b[32m--> \u001b[39m\u001b[32m200\u001b[39m \u001b[38;5;28;01mreturn\u001b[39;00m \u001b[38;5;28;01mawait\u001b[39;00m runner.run(\n\u001b[32m    201\u001b[39m     starting_agent,\n\u001b[32m    202\u001b[39m     \u001b[38;5;28minput\u001b[39m,\n\u001b[32m    203\u001b[39m     context=context,\n\u001b[32m    204\u001b[39m     max_turns=max_turns,\n\u001b[32m    205\u001b[39m     hooks=hooks,\n\u001b[32m    206\u001b[39m     run_config=run_config,\n\u001b[32m    207\u001b[39m     previous_response_id=previous_response_id,\n\u001b[32m    208\u001b[39m )\n",
      "\u001b[36mFile \u001b[39m\u001b[32mc:\\Users\\Jay-R\\Desktop\\agentic-ai-projects\\.venv\\Lib\\site-packages\\agents\\run.py:397\u001b[39m, in \u001b[36mAgentRunner.run\u001b[39m\u001b[34m(self, starting_agent, input, **kwargs)\u001b[39m\n\u001b[32m    392\u001b[39m logger.debug(\n\u001b[32m    393\u001b[39m     \u001b[33mf\u001b[39m\u001b[33m\"\u001b[39m\u001b[33mRunning agent \u001b[39m\u001b[38;5;132;01m{\u001b[39;00mcurrent_agent.name\u001b[38;5;132;01m}\u001b[39;00m\u001b[33m (turn \u001b[39m\u001b[38;5;132;01m{\u001b[39;00mcurrent_turn\u001b[38;5;132;01m}\u001b[39;00m\u001b[33m)\u001b[39m\u001b[33m\"\u001b[39m,\n\u001b[32m    394\u001b[39m )\n\u001b[32m    396\u001b[39m \u001b[38;5;28;01mif\u001b[39;00m current_turn == \u001b[32m1\u001b[39m:\n\u001b[32m--> \u001b[39m\u001b[32m397\u001b[39m     input_guardrail_results, turn_result = \u001b[38;5;28;01mawait\u001b[39;00m asyncio.gather(\n\u001b[32m    398\u001b[39m         \u001b[38;5;28mself\u001b[39m._run_input_guardrails(\n\u001b[32m    399\u001b[39m             starting_agent,\n\u001b[32m    400\u001b[39m             starting_agent.input_guardrails\n\u001b[32m    401\u001b[39m             + (run_config.input_guardrails \u001b[38;5;129;01mor\u001b[39;00m []),\n\u001b[32m    402\u001b[39m             copy.deepcopy(\u001b[38;5;28minput\u001b[39m),\n\u001b[32m    403\u001b[39m             context_wrapper,\n\u001b[32m    404\u001b[39m         ),\n\u001b[32m    405\u001b[39m         \u001b[38;5;28mself\u001b[39m._run_single_turn(\n\u001b[32m    406\u001b[39m             agent=current_agent,\n\u001b[32m    407\u001b[39m             all_tools=all_tools,\n\u001b[32m    408\u001b[39m             original_input=original_input,\n\u001b[32m    409\u001b[39m             generated_items=generated_items,\n\u001b[32m    410\u001b[39m             hooks=hooks,\n\u001b[32m    411\u001b[39m             context_wrapper=context_wrapper,\n\u001b[32m    412\u001b[39m             run_config=run_config,\n\u001b[32m    413\u001b[39m             should_run_agent_start_hooks=should_run_agent_start_hooks,\n\u001b[32m    414\u001b[39m             tool_use_tracker=tool_use_tracker,\n\u001b[32m    415\u001b[39m             previous_response_id=previous_response_id,\n\u001b[32m    416\u001b[39m         ),\n\u001b[32m    417\u001b[39m     )\n\u001b[32m    418\u001b[39m \u001b[38;5;28;01melse\u001b[39;00m:\n\u001b[32m    419\u001b[39m     turn_result = \u001b[38;5;28;01mawait\u001b[39;00m \u001b[38;5;28mself\u001b[39m._run_single_turn(\n\u001b[32m    420\u001b[39m         agent=current_agent,\n\u001b[32m    421\u001b[39m         all_tools=all_tools,\n\u001b[32m   (...)\u001b[39m\u001b[32m    429\u001b[39m         previous_response_id=previous_response_id,\n\u001b[32m    430\u001b[39m     )\n",
      "\u001b[36mFile \u001b[39m\u001b[32mc:\\Users\\Jay-R\\Desktop\\agentic-ai-projects\\.venv\\Lib\\site-packages\\agents\\run.py:910\u001b[39m, in \u001b[36mAgentRunner._run_single_turn\u001b[39m\u001b[34m(cls, agent, all_tools, original_input, generated_items, hooks, context_wrapper, run_config, should_run_agent_start_hooks, tool_use_tracker, previous_response_id)\u001b[39m\n\u001b[32m    907\u001b[39m \u001b[38;5;28minput\u001b[39m = ItemHelpers.input_to_new_input_list(original_input)\n\u001b[32m    908\u001b[39m \u001b[38;5;28minput\u001b[39m.extend([generated_item.to_input_item() \u001b[38;5;28;01mfor\u001b[39;00m generated_item \u001b[38;5;129;01min\u001b[39;00m generated_items])\n\u001b[32m--> \u001b[39m\u001b[32m910\u001b[39m new_response = \u001b[38;5;28;01mawait\u001b[39;00m \u001b[38;5;28mcls\u001b[39m._get_new_response(\n\u001b[32m    911\u001b[39m     agent,\n\u001b[32m    912\u001b[39m     system_prompt,\n\u001b[32m    913\u001b[39m     \u001b[38;5;28minput\u001b[39m,\n\u001b[32m    914\u001b[39m     output_schema,\n\u001b[32m    915\u001b[39m     all_tools,\n\u001b[32m    916\u001b[39m     handoffs,\n\u001b[32m    917\u001b[39m     context_wrapper,\n\u001b[32m    918\u001b[39m     run_config,\n\u001b[32m    919\u001b[39m     tool_use_tracker,\n\u001b[32m    920\u001b[39m     previous_response_id,\n\u001b[32m    921\u001b[39m     prompt_config,\n\u001b[32m    922\u001b[39m )\n\u001b[32m    924\u001b[39m \u001b[38;5;28;01mreturn\u001b[39;00m \u001b[38;5;28;01mawait\u001b[39;00m \u001b[38;5;28mcls\u001b[39m._get_single_step_result_from_response(\n\u001b[32m    925\u001b[39m     agent=agent,\n\u001b[32m    926\u001b[39m     original_input=original_input,\n\u001b[32m   (...)\u001b[39m\u001b[32m    935\u001b[39m     tool_use_tracker=tool_use_tracker,\n\u001b[32m    936\u001b[39m )\n",
      "\u001b[36mFile \u001b[39m\u001b[32mc:\\Users\\Jay-R\\Desktop\\agentic-ai-projects\\.venv\\Lib\\site-packages\\agents\\run.py:1071\u001b[39m, in \u001b[36mAgentRunner._get_new_response\u001b[39m\u001b[34m(cls, agent, system_prompt, input, output_schema, all_tools, handoffs, context_wrapper, run_config, tool_use_tracker, previous_response_id, prompt_config)\u001b[39m\n\u001b[32m   1068\u001b[39m model_settings = agent.model_settings.resolve(run_config.model_settings)\n\u001b[32m   1069\u001b[39m model_settings = RunImpl.maybe_reset_tool_choice(agent, tool_use_tracker, model_settings)\n\u001b[32m-> \u001b[39m\u001b[32m1071\u001b[39m new_response = \u001b[38;5;28;01mawait\u001b[39;00m model.get_response(\n\u001b[32m   1072\u001b[39m     system_instructions=system_prompt,\n\u001b[32m   1073\u001b[39m     \u001b[38;5;28minput\u001b[39m=\u001b[38;5;28minput\u001b[39m,\n\u001b[32m   1074\u001b[39m     model_settings=model_settings,\n\u001b[32m   1075\u001b[39m     tools=all_tools,\n\u001b[32m   1076\u001b[39m     output_schema=output_schema,\n\u001b[32m   1077\u001b[39m     handoffs=handoffs,\n\u001b[32m   1078\u001b[39m     tracing=get_model_tracing_impl(\n\u001b[32m   1079\u001b[39m         run_config.tracing_disabled, run_config.trace_include_sensitive_data\n\u001b[32m   1080\u001b[39m     ),\n\u001b[32m   1081\u001b[39m     previous_response_id=previous_response_id,\n\u001b[32m   1082\u001b[39m     prompt=prompt_config,\n\u001b[32m   1083\u001b[39m )\n\u001b[32m   1085\u001b[39m context_wrapper.usage.add(new_response.usage)\n\u001b[32m   1087\u001b[39m \u001b[38;5;28;01mreturn\u001b[39;00m new_response\n",
      "\u001b[36mFile \u001b[39m\u001b[32mc:\\Users\\Jay-R\\Desktop\\agentic-ai-projects\\.venv\\Lib\\site-packages\\agents\\models\\openai_responses.py:82\u001b[39m, in \u001b[36mOpenAIResponsesModel.get_response\u001b[39m\u001b[34m(self, system_instructions, input, model_settings, tools, output_schema, handoffs, tracing, previous_response_id, prompt)\u001b[39m\n\u001b[32m     80\u001b[39m \u001b[38;5;28;01mwith\u001b[39;00m response_span(disabled=tracing.is_disabled()) \u001b[38;5;28;01mas\u001b[39;00m span_response:\n\u001b[32m     81\u001b[39m     \u001b[38;5;28;01mtry\u001b[39;00m:\n\u001b[32m---> \u001b[39m\u001b[32m82\u001b[39m         response = \u001b[38;5;28;01mawait\u001b[39;00m \u001b[38;5;28mself\u001b[39m._fetch_response(\n\u001b[32m     83\u001b[39m             system_instructions,\n\u001b[32m     84\u001b[39m             \u001b[38;5;28minput\u001b[39m,\n\u001b[32m     85\u001b[39m             model_settings,\n\u001b[32m     86\u001b[39m             tools,\n\u001b[32m     87\u001b[39m             output_schema,\n\u001b[32m     88\u001b[39m             handoffs,\n\u001b[32m     89\u001b[39m             previous_response_id,\n\u001b[32m     90\u001b[39m             stream=\u001b[38;5;28;01mFalse\u001b[39;00m,\n\u001b[32m     91\u001b[39m             prompt=prompt,\n\u001b[32m     92\u001b[39m         )\n\u001b[32m     94\u001b[39m         \u001b[38;5;28;01mif\u001b[39;00m _debug.DONT_LOG_MODEL_DATA:\n\u001b[32m     95\u001b[39m             logger.debug(\u001b[33m\"\u001b[39m\u001b[33mLLM responded\u001b[39m\u001b[33m\"\u001b[39m)\n",
      "\u001b[36mFile \u001b[39m\u001b[32mc:\\Users\\Jay-R\\Desktop\\agentic-ai-projects\\.venv\\Lib\\site-packages\\agents\\models\\openai_responses.py:266\u001b[39m, in \u001b[36mOpenAIResponsesModel._fetch_response\u001b[39m\u001b[34m(self, system_instructions, input, model_settings, tools, output_schema, handoffs, previous_response_id, stream, prompt)\u001b[39m\n\u001b[32m    255\u001b[39m \u001b[38;5;28;01melse\u001b[39;00m:\n\u001b[32m    256\u001b[39m     logger.debug(\n\u001b[32m    257\u001b[39m         \u001b[33mf\u001b[39m\u001b[33m\"\u001b[39m\u001b[33mCalling LLM \u001b[39m\u001b[38;5;132;01m{\u001b[39;00m\u001b[38;5;28mself\u001b[39m.model\u001b[38;5;132;01m}\u001b[39;00m\u001b[33m with input:\u001b[39m\u001b[38;5;130;01m\\n\u001b[39;00m\u001b[33m\"\u001b[39m\n\u001b[32m    258\u001b[39m         \u001b[33mf\u001b[39m\u001b[33m\"\u001b[39m\u001b[38;5;132;01m{\u001b[39;00mjson.dumps(list_input,\u001b[38;5;250m \u001b[39mindent=\u001b[32m2\u001b[39m,\u001b[38;5;250m \u001b[39mensure_ascii=\u001b[38;5;28;01mFalse\u001b[39;00m)\u001b[38;5;132;01m}\u001b[39;00m\u001b[38;5;130;01m\\n\u001b[39;00m\u001b[33m\"\u001b[39m\n\u001b[32m   (...)\u001b[39m\u001b[32m    263\u001b[39m         \u001b[33mf\u001b[39m\u001b[33m\"\u001b[39m\u001b[33mPrevious response id: \u001b[39m\u001b[38;5;132;01m{\u001b[39;00mprevious_response_id\u001b[38;5;132;01m}\u001b[39;00m\u001b[38;5;130;01m\\n\u001b[39;00m\u001b[33m\"\u001b[39m\n\u001b[32m    264\u001b[39m     )\n\u001b[32m--> \u001b[39m\u001b[32m266\u001b[39m \u001b[38;5;28;01mreturn\u001b[39;00m \u001b[38;5;28;01mawait\u001b[39;00m \u001b[38;5;28mself\u001b[39m._client.responses.create(\n\u001b[32m    267\u001b[39m     previous_response_id=\u001b[38;5;28mself\u001b[39m._non_null_or_not_given(previous_response_id),\n\u001b[32m    268\u001b[39m     instructions=\u001b[38;5;28mself\u001b[39m._non_null_or_not_given(system_instructions),\n\u001b[32m    269\u001b[39m     model=\u001b[38;5;28mself\u001b[39m.model,\n\u001b[32m    270\u001b[39m     \u001b[38;5;28minput\u001b[39m=list_input,\n\u001b[32m    271\u001b[39m     include=include,\n\u001b[32m    272\u001b[39m     tools=converted_tools.tools,\n\u001b[32m    273\u001b[39m     prompt=\u001b[38;5;28mself\u001b[39m._non_null_or_not_given(prompt),\n\u001b[32m    274\u001b[39m     temperature=\u001b[38;5;28mself\u001b[39m._non_null_or_not_given(model_settings.temperature),\n\u001b[32m    275\u001b[39m     top_p=\u001b[38;5;28mself\u001b[39m._non_null_or_not_given(model_settings.top_p),\n\u001b[32m    276\u001b[39m     truncation=\u001b[38;5;28mself\u001b[39m._non_null_or_not_given(model_settings.truncation),\n\u001b[32m    277\u001b[39m     max_output_tokens=\u001b[38;5;28mself\u001b[39m._non_null_or_not_given(model_settings.max_tokens),\n\u001b[32m    278\u001b[39m     tool_choice=tool_choice,\n\u001b[32m    279\u001b[39m     parallel_tool_calls=parallel_tool_calls,\n\u001b[32m    280\u001b[39m     stream=stream,\n\u001b[32m    281\u001b[39m     extra_headers={**_HEADERS, **(model_settings.extra_headers \u001b[38;5;129;01mor\u001b[39;00m {})},\n\u001b[32m    282\u001b[39m     extra_query=model_settings.extra_query,\n\u001b[32m    283\u001b[39m     extra_body=model_settings.extra_body,\n\u001b[32m    284\u001b[39m     text=response_format,\n\u001b[32m    285\u001b[39m     store=\u001b[38;5;28mself\u001b[39m._non_null_or_not_given(model_settings.store),\n\u001b[32m    286\u001b[39m     reasoning=\u001b[38;5;28mself\u001b[39m._non_null_or_not_given(model_settings.reasoning),\n\u001b[32m    287\u001b[39m     metadata=\u001b[38;5;28mself\u001b[39m._non_null_or_not_given(model_settings.metadata),\n\u001b[32m    288\u001b[39m     **(model_settings.extra_args \u001b[38;5;129;01mor\u001b[39;00m {}),\n\u001b[32m    289\u001b[39m )\n",
      "\u001b[36mFile \u001b[39m\u001b[32mc:\\Users\\Jay-R\\Desktop\\agentic-ai-projects\\.venv\\Lib\\site-packages\\openai\\resources\\responses\\responses.py:2000\u001b[39m, in \u001b[36mAsyncResponses.create\u001b[39m\u001b[34m(self, background, include, input, instructions, max_output_tokens, max_tool_calls, metadata, model, parallel_tool_calls, previous_response_id, prompt, reasoning, service_tier, store, stream, temperature, text, tool_choice, tools, top_logprobs, top_p, truncation, user, extra_headers, extra_query, extra_body, timeout)\u001b[39m\n\u001b[32m   1967\u001b[39m \u001b[38;5;28;01masync\u001b[39;00m \u001b[38;5;28;01mdef\u001b[39;00m\u001b[38;5;250m \u001b[39m\u001b[34mcreate\u001b[39m(\n\u001b[32m   1968\u001b[39m     \u001b[38;5;28mself\u001b[39m,\n\u001b[32m   1969\u001b[39m     *,\n\u001b[32m   (...)\u001b[39m\u001b[32m   1998\u001b[39m     timeout: \u001b[38;5;28mfloat\u001b[39m | httpx.Timeout | \u001b[38;5;28;01mNone\u001b[39;00m | NotGiven = NOT_GIVEN,\n\u001b[32m   1999\u001b[39m ) -> Response | AsyncStream[ResponseStreamEvent]:\n\u001b[32m-> \u001b[39m\u001b[32m2000\u001b[39m     \u001b[38;5;28;01mreturn\u001b[39;00m \u001b[38;5;28;01mawait\u001b[39;00m \u001b[38;5;28mself\u001b[39m._post(\n\u001b[32m   2001\u001b[39m         \u001b[33m\"\u001b[39m\u001b[33m/responses\u001b[39m\u001b[33m\"\u001b[39m,\n\u001b[32m   2002\u001b[39m         body=\u001b[38;5;28;01mawait\u001b[39;00m async_maybe_transform(\n\u001b[32m   2003\u001b[39m             {\n\u001b[32m   2004\u001b[39m                 \u001b[33m\"\u001b[39m\u001b[33mbackground\u001b[39m\u001b[33m\"\u001b[39m: background,\n\u001b[32m   2005\u001b[39m                 \u001b[33m\"\u001b[39m\u001b[33minclude\u001b[39m\u001b[33m\"\u001b[39m: include,\n\u001b[32m   2006\u001b[39m                 \u001b[33m\"\u001b[39m\u001b[33minput\u001b[39m\u001b[33m\"\u001b[39m: \u001b[38;5;28minput\u001b[39m,\n\u001b[32m   2007\u001b[39m                 \u001b[33m\"\u001b[39m\u001b[33minstructions\u001b[39m\u001b[33m\"\u001b[39m: instructions,\n\u001b[32m   2008\u001b[39m                 \u001b[33m\"\u001b[39m\u001b[33mmax_output_tokens\u001b[39m\u001b[33m\"\u001b[39m: max_output_tokens,\n\u001b[32m   2009\u001b[39m                 \u001b[33m\"\u001b[39m\u001b[33mmax_tool_calls\u001b[39m\u001b[33m\"\u001b[39m: max_tool_calls,\n\u001b[32m   2010\u001b[39m                 \u001b[33m\"\u001b[39m\u001b[33mmetadata\u001b[39m\u001b[33m\"\u001b[39m: metadata,\n\u001b[32m   2011\u001b[39m                 \u001b[33m\"\u001b[39m\u001b[33mmodel\u001b[39m\u001b[33m\"\u001b[39m: model,\n\u001b[32m   2012\u001b[39m                 \u001b[33m\"\u001b[39m\u001b[33mparallel_tool_calls\u001b[39m\u001b[33m\"\u001b[39m: parallel_tool_calls,\n\u001b[32m   2013\u001b[39m                 \u001b[33m\"\u001b[39m\u001b[33mprevious_response_id\u001b[39m\u001b[33m\"\u001b[39m: previous_response_id,\n\u001b[32m   2014\u001b[39m                 \u001b[33m\"\u001b[39m\u001b[33mprompt\u001b[39m\u001b[33m\"\u001b[39m: prompt,\n\u001b[32m   2015\u001b[39m                 \u001b[33m\"\u001b[39m\u001b[33mreasoning\u001b[39m\u001b[33m\"\u001b[39m: reasoning,\n\u001b[32m   2016\u001b[39m                 \u001b[33m\"\u001b[39m\u001b[33mservice_tier\u001b[39m\u001b[33m\"\u001b[39m: service_tier,\n\u001b[32m   2017\u001b[39m                 \u001b[33m\"\u001b[39m\u001b[33mstore\u001b[39m\u001b[33m\"\u001b[39m: store,\n\u001b[32m   2018\u001b[39m                 \u001b[33m\"\u001b[39m\u001b[33mstream\u001b[39m\u001b[33m\"\u001b[39m: stream,\n\u001b[32m   2019\u001b[39m                 \u001b[33m\"\u001b[39m\u001b[33mtemperature\u001b[39m\u001b[33m\"\u001b[39m: temperature,\n\u001b[32m   2020\u001b[39m                 \u001b[33m\"\u001b[39m\u001b[33mtext\u001b[39m\u001b[33m\"\u001b[39m: text,\n\u001b[32m   2021\u001b[39m                 \u001b[33m\"\u001b[39m\u001b[33mtool_choice\u001b[39m\u001b[33m\"\u001b[39m: tool_choice,\n\u001b[32m   2022\u001b[39m                 \u001b[33m\"\u001b[39m\u001b[33mtools\u001b[39m\u001b[33m\"\u001b[39m: tools,\n\u001b[32m   2023\u001b[39m                 \u001b[33m\"\u001b[39m\u001b[33mtop_logprobs\u001b[39m\u001b[33m\"\u001b[39m: top_logprobs,\n\u001b[32m   2024\u001b[39m                 \u001b[33m\"\u001b[39m\u001b[33mtop_p\u001b[39m\u001b[33m\"\u001b[39m: top_p,\n\u001b[32m   2025\u001b[39m                 \u001b[33m\"\u001b[39m\u001b[33mtruncation\u001b[39m\u001b[33m\"\u001b[39m: truncation,\n\u001b[32m   2026\u001b[39m                 \u001b[33m\"\u001b[39m\u001b[33muser\u001b[39m\u001b[33m\"\u001b[39m: user,\n\u001b[32m   2027\u001b[39m             },\n\u001b[32m   2028\u001b[39m             response_create_params.ResponseCreateParamsStreaming\n\u001b[32m   2029\u001b[39m             \u001b[38;5;28;01mif\u001b[39;00m stream\n\u001b[32m   2030\u001b[39m             \u001b[38;5;28;01melse\u001b[39;00m response_create_params.ResponseCreateParamsNonStreaming,\n\u001b[32m   2031\u001b[39m         ),\n\u001b[32m   2032\u001b[39m         options=make_request_options(\n\u001b[32m   2033\u001b[39m             extra_headers=extra_headers, extra_query=extra_query, extra_body=extra_body, timeout=timeout\n\u001b[32m   2034\u001b[39m         ),\n\u001b[32m   2035\u001b[39m         cast_to=Response,\n\u001b[32m   2036\u001b[39m         stream=stream \u001b[38;5;129;01mor\u001b[39;00m \u001b[38;5;28;01mFalse\u001b[39;00m,\n\u001b[32m   2037\u001b[39m         stream_cls=AsyncStream[ResponseStreamEvent],\n\u001b[32m   2038\u001b[39m     )\n",
      "\u001b[36mFile \u001b[39m\u001b[32mc:\\Users\\Jay-R\\Desktop\\agentic-ai-projects\\.venv\\Lib\\site-packages\\openai\\_base_client.py:1791\u001b[39m, in \u001b[36mAsyncAPIClient.post\u001b[39m\u001b[34m(self, path, cast_to, body, files, options, stream, stream_cls)\u001b[39m\n\u001b[32m   1777\u001b[39m \u001b[38;5;28;01masync\u001b[39;00m \u001b[38;5;28;01mdef\u001b[39;00m\u001b[38;5;250m \u001b[39m\u001b[34mpost\u001b[39m(\n\u001b[32m   1778\u001b[39m     \u001b[38;5;28mself\u001b[39m,\n\u001b[32m   1779\u001b[39m     path: \u001b[38;5;28mstr\u001b[39m,\n\u001b[32m   (...)\u001b[39m\u001b[32m   1786\u001b[39m     stream_cls: \u001b[38;5;28mtype\u001b[39m[_AsyncStreamT] | \u001b[38;5;28;01mNone\u001b[39;00m = \u001b[38;5;28;01mNone\u001b[39;00m,\n\u001b[32m   1787\u001b[39m ) -> ResponseT | _AsyncStreamT:\n\u001b[32m   1788\u001b[39m     opts = FinalRequestOptions.construct(\n\u001b[32m   1789\u001b[39m         method=\u001b[33m\"\u001b[39m\u001b[33mpost\u001b[39m\u001b[33m\"\u001b[39m, url=path, json_data=body, files=\u001b[38;5;28;01mawait\u001b[39;00m async_to_httpx_files(files), **options\n\u001b[32m   1790\u001b[39m     )\n\u001b[32m-> \u001b[39m\u001b[32m1791\u001b[39m     \u001b[38;5;28;01mreturn\u001b[39;00m \u001b[38;5;28;01mawait\u001b[39;00m \u001b[38;5;28mself\u001b[39m.request(cast_to, opts, stream=stream, stream_cls=stream_cls)\n",
      "\u001b[36mFile \u001b[39m\u001b[32mc:\\Users\\Jay-R\\Desktop\\agentic-ai-projects\\.venv\\Lib\\site-packages\\openai\\_base_client.py:1591\u001b[39m, in \u001b[36mAsyncAPIClient.request\u001b[39m\u001b[34m(self, cast_to, options, stream, stream_cls)\u001b[39m\n\u001b[32m   1588\u001b[39m             \u001b[38;5;28;01mawait\u001b[39;00m err.response.aread()\n\u001b[32m   1590\u001b[39m         log.debug(\u001b[33m\"\u001b[39m\u001b[33mRe-raising status error\u001b[39m\u001b[33m\"\u001b[39m)\n\u001b[32m-> \u001b[39m\u001b[32m1591\u001b[39m         \u001b[38;5;28;01mraise\u001b[39;00m \u001b[38;5;28mself\u001b[39m._make_status_error_from_response(err.response) \u001b[38;5;28;01mfrom\u001b[39;00m\u001b[38;5;250m \u001b[39m\u001b[38;5;28;01mNone\u001b[39;00m\n\u001b[32m   1593\u001b[39m     \u001b[38;5;28;01mbreak\u001b[39;00m\n\u001b[32m   1595\u001b[39m \u001b[38;5;28;01massert\u001b[39;00m response \u001b[38;5;129;01mis\u001b[39;00m \u001b[38;5;129;01mnot\u001b[39;00m \u001b[38;5;28;01mNone\u001b[39;00m, \u001b[33m\"\u001b[39m\u001b[33mcould not resolve response (should never happen)\u001b[39m\u001b[33m\"\u001b[39m\n",
      "\u001b[31mRateLimitError\u001b[39m: Error code: 429 - {'error': {'message': 'You exceeded your current quota, please check your plan and billing details. For more information on this error, read the docs: https://platform.openai.com/docs/guides/error-codes/api-errors.', 'type': 'insufficient_quota', 'param': None, 'code': 'insufficient_quota'}}"
     ]
    }
   ],
   "source": [
    "instructions =\"You are a sales manager working for ComplAI. You use the tools given to you to generate cold sales emails. \\\n",
    "You never generate sales emails yourself; you always use the tools. \\\n",
    "You try all 3 sales_agent tools once before choosing the best one. \\\n",
    "You pick the single best email and use the send_email tool to send the best email (and only the best email) to the user.\"\n",
    "\n",
    "\n",
    "sales_manager = Agent(name=\"Sales Manager\", instructions=instructions, tools=tools, model=\"gpt-4o-mini\")\n",
    "\n",
    "message = \"Send a cold sales email addressed to 'Dear CEO'\"\n",
    "\n",
    "# with trace(\"Sales manager\"):\n",
    "#     result = await Runner.run(sales_manager, message)"
   ]
  },
  {
   "cell_type": "markdown",
   "id": "43f6bfb9",
   "metadata": {},
   "source": [
    "HANDOFFS"
   ]
  },
  {
   "cell_type": "code",
   "execution_count": 9,
   "id": "ff7a4d71",
   "metadata": {},
   "outputs": [],
   "source": [
    "subject_instructions = \"You can write a subject for a cold sales email. \\\n",
    "You are given a message and you need to write a subject for an email that is likely to get a response.\"\n",
    "\n",
    "html_instructions = \"You can convert a text email body to an HTML email body. \\\n",
    "You are given a text email body which might have some markdown \\\n",
    "and you need to convert it to an HTML email body with simple, clear, compelling layout and design.\"\n",
    "\n",
    "subject_writer = Agent(name=\"Email subject writer\", instructions=subject_instructions, model=deepseek_model)\n",
    "subject_tool = subject_writer.as_tool(tool_name=\"subject_writer\", tool_description=\"Write a subject for a cold sales email\")\n",
    "\n",
    "html_converter = Agent(name=\"HTML email body converter\", instructions=html_instructions, model=deepseek_model)\n",
    "html_tool = html_converter.as_tool(tool_name=\"html_converter\",tool_description=\"Convert a text email body to an HTML email body\")"
   ]
  },
  {
   "cell_type": "code",
   "execution_count": 10,
   "id": "53499426",
   "metadata": {},
   "outputs": [],
   "source": [
    "# @function_tool\n",
    "# def send_html_email(subject: str, html_body: str) -> Dict[str, str]:\n",
    "#     \"\"\" Send out an email with the given subject and HTML body to all sales prospects \"\"\"\n",
    "#     sg = sendgrid.SendGridAPIClient(api_key=os.environ.get('SENDGRID_API_KEY'))\n",
    "#     from_email = Email(\"ed@edwarddonner.com\")  # Change to your verified sender\n",
    "#     to_email = To(\"ed.donner@gmail.com\")  # Change to your recipient\n",
    "#     content = Content(\"text/html\", html_body)\n",
    "#     mail = Mail(from_email, to_email, subject, content).get()\n",
    "#     sg.client.mail.send.post(request_body=mail)\n",
    "#     return {\"status\": \"success\"}\n",
    "\n",
    "@function_tool\n",
    "def send_email(subject: str, body: str) -> Dict[str, str]:\n",
    "    \"\"\" Send out an email with the given body to all sales prospects \"\"\"\n",
    "    config = Configuration()\n",
    "    config.api_key['api-key'] = os.getenv(\"BREVO_API_KEY\")\n",
    "\n",
    "    api_client = ApiClient(configuration=config)\n",
    "    api_instance = TransactionalEmailsApi(api_client)\n",
    "\n",
    "    email = SendSmtpEmail(\n",
    "        to=[{\"email\": \"jhayar.zuniga@gmail.com\"}],\n",
    "        sender={\"email\": \"jhayar.zuniga004@gmail.com\", \"name\": \"Jay Z\"},\n",
    "        subject=\"Sales Agent SOC1\",\n",
    "        text_content= f\"Subject: {subject}\\n\\n{body}\",\n",
    "    )\n",
    "\n",
    "    try:\n",
    "        response = api_instance.send_transac_email(email)\n",
    "        print(\"✅ Email sent! Message ID:\", response.message_id)\n",
    "    except ApiException as e:\n",
    "        print(\"❌ Exception when sending email:\", e)"
   ]
  },
  {
   "cell_type": "code",
   "execution_count": 12,
   "id": "bde72a7c",
   "metadata": {},
   "outputs": [],
   "source": [
    "tools = [subject_tool, html_tool, send_email]"
   ]
  },
  {
   "cell_type": "code",
   "execution_count": 13,
   "id": "4315f8ba",
   "metadata": {},
   "outputs": [
    {
     "data": {
      "text/plain": [
       "[FunctionTool(name='subject_writer', description='Write a subject for a cold sales email', params_json_schema={'properties': {'input': {'title': 'Input', 'type': 'string'}}, 'required': ['input'], 'title': 'subject_writer_args', 'type': 'object', 'additionalProperties': False}, on_invoke_tool=<function function_tool.<locals>._create_function_tool.<locals>._on_invoke_tool at 0x0000011F2AA81A80>, strict_json_schema=True, is_enabled=True),\n",
       " FunctionTool(name='html_converter', description='Convert a text email body to an HTML email body', params_json_schema={'properties': {'input': {'title': 'Input', 'type': 'string'}}, 'required': ['input'], 'title': 'html_converter_args', 'type': 'object', 'additionalProperties': False}, on_invoke_tool=<function function_tool.<locals>._create_function_tool.<locals>._on_invoke_tool at 0x0000011F2AA81EE0>, strict_json_schema=True, is_enabled=True),\n",
       " FunctionTool(name='send_email', description='Send out an email with the given body to all sales prospects', params_json_schema={'properties': {'subject': {'title': 'Subject', 'type': 'string'}, 'body': {'title': 'Body', 'type': 'string'}}, 'required': ['subject', 'body'], 'title': 'send_email_args', 'type': 'object', 'additionalProperties': False}, on_invoke_tool=<function function_tool.<locals>._create_function_tool.<locals>._on_invoke_tool at 0x0000011F2AA81620>, strict_json_schema=True, is_enabled=True)]"
      ]
     },
     "execution_count": 13,
     "metadata": {},
     "output_type": "execute_result"
    }
   ],
   "source": [
    "tools"
   ]
  },
  {
   "cell_type": "code",
   "execution_count": 15,
   "id": "bc6c27ed",
   "metadata": {},
   "outputs": [],
   "source": [
    "instructions =\"You are an email formatter and sender. You receive the body of an email to be sent. \\\n",
    "You first use the subject_writer tool to write a subject for the email, then use the html_converter tool to convert the body to HTML. \\\n",
    "Finally, you use the send_html_email tool to send the email with the subject and HTML body.\"\n",
    "\n",
    "\n",
    "emailer_agent = Agent(\n",
    "    name=\"Email Manager\",\n",
    "    instructions=instructions,\n",
    "    tools=tools,\n",
    "    model=\"gpt-4o-mini\",\n",
    "    handoff_description=\"Convert an email to HTML and send it\")"
   ]
  },
  {
   "cell_type": "code",
   "execution_count": 18,
   "id": "83342946",
   "metadata": {},
   "outputs": [
    {
     "name": "stdout",
     "output_type": "stream",
     "text": [
      "[FunctionTool(name='sales_agent1', description='Write a cold sales email', params_json_schema={'properties': {'input': {'title': 'Input', 'type': 'string'}}, 'required': ['input'], 'title': 'sales_agent1_args', 'type': 'object', 'additionalProperties': False}, on_invoke_tool=<function function_tool.<locals>._create_function_tool.<locals>._on_invoke_tool at 0x0000011F2AA82700>, strict_json_schema=True, is_enabled=True), FunctionTool(name='sales_agent2', description='Write a cold sales email', params_json_schema={'properties': {'input': {'title': 'Input', 'type': 'string'}}, 'required': ['input'], 'title': 'sales_agent2_args', 'type': 'object', 'additionalProperties': False}, on_invoke_tool=<function function_tool.<locals>._create_function_tool.<locals>._on_invoke_tool at 0x0000011F2AA81440>, strict_json_schema=True, is_enabled=True), FunctionTool(name='sales_agent3', description='Write a cold sales email', params_json_schema={'properties': {'input': {'title': 'Input', 'type': 'string'}}, 'required': ['input'], 'title': 'sales_agent3_args', 'type': 'object', 'additionalProperties': False}, on_invoke_tool=<function function_tool.<locals>._create_function_tool.<locals>._on_invoke_tool at 0x0000011F2AA82160>, strict_json_schema=True, is_enabled=True)]\n",
      "[Agent(name='Email Manager', instructions='You are an email formatter and sender. You receive the body of an email to be sent. You first use the subject_writer tool to write a subject for the email, then use the html_converter tool to convert the body to HTML. Finally, you use the send_html_email tool to send the email with the subject and HTML body.', prompt=None, handoff_description='Convert an email to HTML and send it', handoffs=[], model='gpt-4o-mini', model_settings=ModelSettings(temperature=None, top_p=None, frequency_penalty=None, presence_penalty=None, tool_choice=None, parallel_tool_calls=None, truncation=None, max_tokens=None, reasoning=None, metadata=None, store=None, include_usage=None, response_include=None, extra_query=None, extra_body=None, extra_headers=None, extra_args=None), tools=[FunctionTool(name='subject_writer', description='Write a subject for a cold sales email', params_json_schema={'properties': {'input': {'title': 'Input', 'type': 'string'}}, 'required': ['input'], 'title': 'subject_writer_args', 'type': 'object', 'additionalProperties': False}, on_invoke_tool=<function function_tool.<locals>._create_function_tool.<locals>._on_invoke_tool at 0x0000011F2AA81A80>, strict_json_schema=True, is_enabled=True), FunctionTool(name='html_converter', description='Convert a text email body to an HTML email body', params_json_schema={'properties': {'input': {'title': 'Input', 'type': 'string'}}, 'required': ['input'], 'title': 'html_converter_args', 'type': 'object', 'additionalProperties': False}, on_invoke_tool=<function function_tool.<locals>._create_function_tool.<locals>._on_invoke_tool at 0x0000011F2AA81EE0>, strict_json_schema=True, is_enabled=True), FunctionTool(name='send_email', description='Send out an email with the given body to all sales prospects', params_json_schema={'properties': {'subject': {'title': 'Subject', 'type': 'string'}, 'body': {'title': 'Body', 'type': 'string'}}, 'required': ['subject', 'body'], 'title': 'send_email_args', 'type': 'object', 'additionalProperties': False}, on_invoke_tool=<function function_tool.<locals>._create_function_tool.<locals>._on_invoke_tool at 0x0000011F2AA81620>, strict_json_schema=True, is_enabled=True)], mcp_servers=[], mcp_config={}, input_guardrails=[], output_guardrails=[], output_type=None, hooks=None, tool_use_behavior='run_llm_again', reset_tool_choice=True)]\n"
     ]
    }
   ],
   "source": [
    "tools = [tool1, tool2, tool3]\n",
    "handoffs = [emailer_agent]\n",
    "print(tools)\n",
    "print(handoffs)"
   ]
  },
  {
   "cell_type": "code",
   "execution_count": null,
   "id": "9ddb243c",
   "metadata": {},
   "outputs": [],
   "source": [
    "sales_manager_instructions = \"You are a sales manager working for ComplAI. You use the tools given to you to generate cold sales emails. \\\n",
    "You never generate sales emails yourself; you always use the tools. \\\n",
    "You try all 3 sales agent tools at least once before choosing the best one. \\\n",
    "You can use the tools multiple times if you're not satisfied with the results from the first try. \\\n",
    "You select the single best email using your own judgement of which email will be most effective. \\\n",
    "After picking the email, you handoff to the Email Manager agent to format and send the email.\"\n",
    "\n",
    "\n",
    "sales_manager = Agent(\n",
    "    name=\"Sales Manager\",\n",
    "    instructions=sales_manager_instructions,\n",
    "    tools=tools,\n",
    "    handoffs=handoffs,\n",
    "    model=\"gpt-4o-mini\")\n",
    "\n",
    "message = \"Send out a cold sales email addressed to Dear CEO from Alice\"\n",
    "\n",
    "result = await Runner.run(sales_manager, message)\n",
    "\n",
    "# with trace(\"Automated SDR\"):\n",
    "#     result = await Runner.run(sales_manager, message)"
   ]
  }
 ],
 "metadata": {
  "kernelspec": {
   "display_name": "agents",
   "language": "python",
   "name": "python3"
  },
  "language_info": {
   "codemirror_mode": {
    "name": "ipython",
    "version": 3
   },
   "file_extension": ".py",
   "mimetype": "text/x-python",
   "name": "python",
   "nbconvert_exporter": "python",
   "pygments_lexer": "ipython3",
   "version": "3.12.6"
  }
 },
 "nbformat": 4,
 "nbformat_minor": 5
}
