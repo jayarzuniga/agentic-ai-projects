{
 "cells": [
  {
   "cell_type": "code",
   "execution_count": null,
   "id": "c40c82fc",
   "metadata": {},
   "outputs": [
    {
     "data": {
      "text/plain": [
       "True"
      ]
     },
     "execution_count": 12,
     "metadata": {},
     "output_type": "execute_result"
    }
   ],
   "source": [
    "from dotenv import load_dotenv\n",
    "from agents import Agent, Runner, trace, OpenAIChatCompletionsModel\n",
    "import os\n",
    "from openai import AsyncOpenAI\n",
    "\n",
    "load_dotenv(override=True)\n"
   ]
  },
  {
   "cell_type": "code",
   "execution_count": 13,
   "id": "6f07d39b",
   "metadata": {},
   "outputs": [],
   "source": [
    "deepseek_api_key = os.getenv(\"DEEPSEEK_API_KEY\")\n",
    "DEEPSEEK_BASE_URL = \"https://api.deepseek.com\"\n",
    "\n",
    "deepseek_client=AsyncOpenAI(\n",
    "    base_url=DEEPSEEK_BASE_URL,\n",
    "    api_key=deepseek_api_key\n",
    ")\n",
    "deepseek_model=OpenAIChatCompletionsModel(\n",
    "    model=\"deepseek-chat\",\n",
    "    openai_client=deepseek_client\n",
    ")\n",
    "\n",
    "\n",
    "agent = Agent(\n",
    "    name=\"Jokester\",\n",
    "    instructions=\"You are a comedian. Your job is to tell jokes.\",\n",
    "    model=deepseek_model\n",
    ")"
   ]
  },
  {
   "cell_type": "code",
   "execution_count": 14,
   "id": "77bdffcf",
   "metadata": {},
   "outputs": [
    {
     "data": {
      "text/plain": [
       "Agent(name='Jokester', instructions='You are a comedian. Your job is to tell jokes.', prompt=None, handoff_description=None, handoffs=[], model=<agents.models.openai_chatcompletions.OpenAIChatCompletionsModel object at 0x000001CE68877B60>, model_settings=ModelSettings(temperature=None, top_p=None, frequency_penalty=None, presence_penalty=None, tool_choice=None, parallel_tool_calls=None, truncation=None, max_tokens=None, reasoning=None, metadata=None, store=None, include_usage=None, response_include=None, extra_query=None, extra_body=None, extra_headers=None, extra_args=None), tools=[], mcp_servers=[], mcp_config={}, input_guardrails=[], output_guardrails=[], output_type=None, hooks=None, tool_use_behavior='run_llm_again', reset_tool_choice=True)"
      ]
     },
     "execution_count": 14,
     "metadata": {},
     "output_type": "execute_result"
    }
   ],
   "source": [
    "agent"
   ]
  },
  {
   "cell_type": "code",
   "execution_count": 17,
   "id": "d4331971",
   "metadata": {},
   "outputs": [
    {
     "name": "stdout",
     "output_type": "stream",
     "text": [
      "Sure! Here's a dino-mite joke for you:  \n",
      "\n",
      "**Why did the T-Rex refuse to pay for his meal?**  \n",
      "Because he was *stuffed*!  \n",
      "\n",
      "(And also because his arms were too short to reach his wallet! 🦖💸)  \n",
      "\n",
      "Hope that roars your funny bone! 😄\n"
     ]
    }
   ],
   "source": [
    "with trace(\"Telling a joke\"):\n",
    "    result = await Runner.run(agent, \"Tell me a joke about T-rex\")\n",
    "    print(result.final_output)"
   ]
  }
 ],
 "metadata": {
  "kernelspec": {
   "display_name": "agents",
   "language": "python",
   "name": "python3"
  },
  "language_info": {
   "codemirror_mode": {
    "name": "ipython",
    "version": 3
   },
   "file_extension": ".py",
   "mimetype": "text/x-python",
   "name": "python",
   "nbconvert_exporter": "python",
   "pygments_lexer": "ipython3",
   "version": "3.12.6"
  }
 },
 "nbformat": 4,
 "nbformat_minor": 5
}
